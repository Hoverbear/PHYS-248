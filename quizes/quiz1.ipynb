{
 "cells": [
  {
   "cell_type": "markdown",
   "metadata": {},
   "source": [
    "## Quiz 1\n",
    "\n",
    "This quiz has three parts.  Please complete them in the space provided below.  Once you have completed this quiz, please push it to your BitBucket repository, in your __assignments__ directory."
   ]
  },
  {
   "cell_type": "markdown",
   "metadata": {},
   "source": [
    "**Part 1**\n",
    "\n",
    "Define a Python function $$f(n)$$\n",
    "which takes as an argument an integer $n$, and returns an integer.  The output of $f$ is required to be half $n$ if $n$ is even.  If $n$ is odd, define $f$ to be $3n+1$, i.e.\n",
    "$$ f(n) = \\left\\{ \\matrix{n/2 & n even \\cr 3n+1 & n odd} \\right.$$"
   ]
  },
  {
   "cell_type": "code",
   "execution_count": 13,
   "metadata": {
    "collapsed": false
   },
   "outputs": [
    {
     "name": "stdout",
     "output_type": "stream",
     "text": [
      "True\n",
      "True\n",
      "True\n"
     ]
    }
   ],
   "source": [
    "## Define f here\n",
    "def f(n):\n",
    "    \"\"\"\n",
    "    The defined function above.\n",
    "    \"\"\"\n",
    "    if n % 2 == 0:\n",
    "        return n/2\n",
    "    else:\n",
    "        return (3*n) + 1\n",
    "\n",
    "## a few tests to ensure you have implemented f correctly:\n",
    "\n",
    "print(f(3)==10)\n",
    "print(f(2)==1)\n",
    "print(f(10)==5)\n"
   ]
  },
  {
   "cell_type": "markdown",
   "metadata": {},
   "source": [
    "**Part 2**\n",
    "\n",
    "A conjecture states that if you start off with any positive integer $n$\n",
    "\n",
    "$$ n \\in \\{ 1, 2, 3, 4, \\cdots \\} $$\n",
    "\n",
    "and apply $f$ recursively, then *eventually* you will produce the integer $1$. \n",
    "\n",
    "*A recursive application of f* means we produce a sequence of points $s_0 = n$, \n",
    "$s_1 = f(n)$, $s_2 = f(f(n))$.  In general, \n",
    "\n",
    "$$s_{k+1} = f(s_k) \\ \\ \\ if \\ \\ \\  k \\geq 0 \\ \\ \\ and \\hskip 1cm s_0 = n$$\n",
    "\n",
    "\n",
    "The conjecture is that, regardless of what *n* is, $s_k = 1$ for some $k$ that is perhaps very large. \n",
    "\n",
    "Write a script that *tests* this conjecture for the integers\n",
    "$$n = 2,3,4,5,\\cdots, 99, 100.$$\n"
   ]
  },
  {
   "cell_type": "code",
   "execution_count": 14,
   "metadata": {
    "collapsed": false
   },
   "outputs": [],
   "source": [
    "## Write a function which takes as input n, and computes the sequence s_k\n",
    "##  have the function terminate, returning True, if it discovers s_k=1\n",
    "def p2(n):\n",
    "    \"\"\"\n",
    "    takes as input n, and computes the sequence s_k have the function terminate, returning True, if it discovers s_k=1\n",
    "    \"\"\"\n",
    "    while n != 1:\n",
    "        n = f(n)\n",
    "    # We know it's 1.\n",
    "    return True\n",
    "\n",
    "\n",
    "## Write a loop here that calls your above function for n=2,3, . . ., 100. \n",
    "for i in range(2, 100+1):\n",
    "    if p2(i) == False:\n",
    "        print(str(i) + \" didn't work\")"
   ]
  },
  {
   "cell_type": "markdown",
   "metadata": {},
   "source": [
    "**Part 3**\n",
    "\n",
    "Create a plot of $n$ vs. $k$ that summarizes *Part 2*.  i.e. for each $n$, you either discovered a $k$ or you did not, such that $s_k = 1$.  Plot the points $(n, k)$ with $s_k=1$, for each $n=2,3,\\cdots, 100$. \n"
   ]
  },
  {
   "cell_type": "code",
   "execution_count": 16,
   "metadata": {
    "collapsed": false
   },
   "outputs": [
    {
     "data": {
      "text/plain": [
       "[<matplotlib.lines.Line2D at 0x7fa258f48ac8>]"
      ]
     },
     "execution_count": 16,
     "metadata": {},
     "output_type": "execute_result"
    },
    {
     "data": {
      "image/png": "[encoded data removed]",
      "text/plain": [
       "<matplotlib.figure.Figure at 0x7fa258f506a0>"
      ]
     },
     "metadata": {},
     "output_type": "display_data"
    }
   ],
   "source": [
    "%matplotlib inline\n",
    "## put in your matplotlib plot here\n",
    "n = range(2, 100+1)\n",
    "k = [p2(i) for i in n]\n",
    "plot(n, k)"
   ]
  },
  {
   "cell_type": "markdown",
   "metadata": {},
   "source": [
    "## Part 4\n",
    "\n",
    "Obviously a straight line plot is no fun, let's have more fun:\n",
    "\n"
   ]
  },
  {
   "cell_type": "code",
   "execution_count": 22,
   "metadata": {
    "collapsed": false
   },
   "outputs": [
    {
     "data": {
      "text/plain": [
       "[<matplotlib.lines.Line2D at 0x7fa258b67978>]"
      ]
     },
     "execution_count": 22,
     "metadata": {},
     "output_type": "execute_result"
    },
    {
     "data": {
      "image/png": "[encoded data removed]",
      "text/plain": [
       "<matplotlib.figure.Figure at 0x7fa258e1f828>"
      ]
     },
     "metadata": {},
     "output_type": "display_data"
    }
   ],
   "source": [
    "%matplotlib inline\n",
    "def p4(n):\n",
    "    \"\"\"\n",
    "    takes as input n, and computes the sequence s_k have the function terminate, returning True, if it discovers s_k=1\n",
    "    \"\"\"\n",
    "    steps = 0\n",
    "    while n != 1:\n",
    "        n = f(n)\n",
    "        steps += 1\n",
    "    # We know it's 1.\n",
    "    return steps\n",
    "\n",
    "\n",
    "## put in your matplotlib plot here\n",
    "n = range(2, 100000+1)\n",
    "k = [p4(i) for i in n]\n",
    "plot(n, k)"
   ]
  },
  {
   "cell_type": "code",
   "execution_count": null,
   "metadata": {
    "collapsed": true
   },
   "outputs": [],
   "source": []
  }
 ],
 "metadata": {
  "kernelspec": {
   "display_name": "Python 3",
   "language": "python",
   "name": "python3"
  },
  "language_info": {
   "codemirror_mode": {
    "name": "ipython",
    "version": 3
   },
   "file_extension": ".py",
   "mimetype": "text/x-python",
   "name": "python",
   "nbconvert_exporter": "python",
   "pygments_lexer": "ipython3",
   "version": "3.5.1"
  }
 },
 "nbformat": 4,
 "nbformat_minor": 0
}
