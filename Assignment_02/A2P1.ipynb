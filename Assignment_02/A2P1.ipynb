{
 "cells": [
  {
   "cell_type": "markdown",
   "metadata": {},
   "source": [
    "## Problem 1\n",
    "1. Create your own linear algebra module `linalg` that can be imported into your notebook. This may just be a `.py` file in the assignment directory. \n",
    "2. Add a function that takes a matrix (as an array of arrays) and a vector which together represent a set of equations ($\\vec{u} = {\\bf A} \\cdot \\vec{v}$) as input. The function solves the equations, i.e. returns $\\vec{v}$. Use the Gaussian elemination technique.\n",
    "3. Your function should have some checks to prevent the user from misusing the function in the most obvious way. Think about and comment on other not so obvious ways in which your function could fail. \n",
    "4. In your solution notebook create an example that tests your function. E.g. set up your test so that it returns a known solution. Use a library from `numpy.linalg` to do the same test problem."
   ]
  },
  {
   "cell_type": "code",
   "execution_count": 2,
   "metadata": {
    "collapsed": false
   },
   "outputs": [
    {
     "name": "stdout",
     "output_type": "stream",
     "text": [
      "Pass 1\n",
      "Pass 2\n",
      "Pass 3\n",
      "Pass 4\n",
      "Pass 5\n",
      "Pass 6\n",
      "Pass 7\n",
      "Pass 8\n"
     ]
    }
   ],
   "source": [
    "from linalg import gaussian_elimination\n",
    "from numpy import linalg\n",
    "\n",
    "index = 0\n",
    "def test(m, v):\n",
    "    global index\n",
    "    index += 1\n",
    "    mine = gaussian_elimination(m, v)\n",
    "    numpys = linalg.solve(m, v)\n",
    "    if (mine == numpys).all():\n",
    "        print(\"Pass\", index)\n",
    "    else:\n",
    "        print(\"Fail\", index, m, v)\n",
    "        print(\" Mine:\", mine)\n",
    "        print(\" numpys:\", numpys)\n",
    "\n",
    "# Test first column.\n",
    "\n",
    "#1\n",
    "matrix = [\n",
    "    [1,0,0],\n",
    "    [0,1,0],\n",
    "    [0,0,1]\n",
    "]\n",
    "vector = [1,1,1]\n",
    "test(matrix, vector)\n",
    "\n",
    "#2\n",
    "matrix = [\n",
    "    [1,0,0],\n",
    "    [0,1,1],\n",
    "    [0,0,1]\n",
    "]\n",
    "vector = [1,1,1]\n",
    "test(matrix, vector)\n",
    "\n",
    "#3\n",
    "matrix = [\n",
    "    [1,0,1],\n",
    "    [0,1,1],\n",
    "    [0,0,1]\n",
    "]\n",
    "vector = [1,1,1]\n",
    "test(matrix, vector)\n",
    "\n",
    "# And the second...\n",
    "#4\n",
    "matrix = [\n",
    "    [1,1,0],\n",
    "    [0,1,0],\n",
    "    [0,0,1]\n",
    "]\n",
    "vector = [1,1,1]\n",
    "test(matrix, vector)\n",
    "#5\n",
    "matrix = [\n",
    "    [1,1,0],\n",
    "    [0,1,0],\n",
    "    [0,1,1]\n",
    "]\n",
    "vector = [1,1,1]\n",
    "test(matrix, vector)\n",
    "\n",
    "# Third\n",
    "#6\n",
    "matrix = [\n",
    "    [1,0,0],\n",
    "    [1,1,0],\n",
    "    [0,0,1]\n",
    "]\n",
    "vector = [1,1,1]\n",
    "test(matrix, vector)\n",
    "#7\n",
    "matrix = [\n",
    "    [1,0,0],\n",
    "    [1,1,0],\n",
    "    [1,0,1]\n",
    "]\n",
    "vector = [1,1,1]\n",
    "test(matrix, vector)\n",
    "\n",
    "# Complex\n",
    "#8\n",
    "matrix = [\n",
    "    [2,2,3],\n",
    "    [4,5,5],\n",
    "    [1,2,1]\n",
    "]\n",
    "vector = [1,4,2]\n",
    "test(matrix, vector)\n"
   ]
  },
  {
   "cell_type": "code",
   "execution_count": null,
   "metadata": {
    "collapsed": true
   },
   "outputs": [],
   "source": []
  }
 ],
 "metadata": {
  "kernelspec": {
   "display_name": "Python 3",
   "language": "python",
   "name": "python3"
  },
  "language_info": {
   "codemirror_mode": {
    "name": "ipython",
    "version": 3
   },
   "file_extension": ".py",
   "mimetype": "text/x-python",
   "name": "python",
   "nbconvert_exporter": "python",
   "pygments_lexer": "ipython3",
   "version": "3.5.1"
  }
 },
 "nbformat": 4,
 "nbformat_minor": 0
}
