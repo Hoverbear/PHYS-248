{
 "cells": [
  {
   "cell_type": "markdown",
   "metadata": {},
   "source": [
    "### Problem 2\n",
    "\n",
    "Consider the resistor circuit discussed [in class](../Week_04.ipynb): ![Resistor](ResistorCircuit.jpg) \n",
    "\n",
    "Determine the voltage at each of the junctions if $V_\\mathrm{Rail} = 5\\mathrm{V}$ and all resistors of the same resistance."
   ]
  },
  {
   "cell_type": "markdown",
   "metadata": {
    "collapsed": true
   },
   "source": [
    "After attempting to build the matrix several different ways and attempting different methods such as [this](http://denethor.wlu.ca/pc320/lectures/kirchex.pdf), [this](https://www.youtube.com/watch?v=Z2QDXjG2ynU), and researching voltage drop [here](https://www.youtube.com/watch?v=hqHvRCCsWU8) as well as throughly reading related wiki articles I was unable to move forward. This is frustrating."
   ]
  },
  {
   "cell_type": "markdown",
   "metadata": {},
   "source": [
    "## Answer\n",
    "\n",
    "<!-- http://mathonweb.com/help/backgd5.htm -->\n",
    "\n",
    "From Whiteboarded work on matrix:\n",
    "\n",
    "![](A2P2.jpg)"
   ]
  },
  {
   "cell_type": "code",
   "execution_count": 8,
   "metadata": {
    "collapsed": false
   },
   "outputs": [
    {
     "name": "stdout",
     "output_type": "stream",
     "text": [
      "V 1 is 2.0\n",
      "V 2 is 1.66666666667\n",
      "V 3 is 3.33333333333\n",
      "V 4 is 3.0\n"
     ]
    }
   ],
   "source": [
    "from numpy import linalg\n",
    "import sympy\n",
    "\n",
    "solutions = linalg.solve([\n",
    "    [ 4,-1,-1,-1],\n",
    "    [-1, 3, 0,-1],\n",
    "    [-1, 0, 3,-1],\n",
    "    [-1,-1,-1, 4]\n",
    "], [\n",
    "    0,\n",
    "    0,\n",
    "    5,\n",
    "    5\n",
    "])\n",
    "\n",
    "for solution in range(0, 4):\n",
    "    print(\"V\",solution+1,\"is\",solutions[solution])"
   ]
  },
  {
   "cell_type": "code",
   "execution_count": null,
   "metadata": {
    "collapsed": true
   },
   "outputs": [],
   "source": []
  }
 ],
 "metadata": {
  "kernelspec": {
   "display_name": "Python 3",
   "language": "python",
   "name": "python3"
  },
  "language_info": {
   "codemirror_mode": {
    "name": "ipython",
    "version": 3
   },
   "file_extension": ".py",
   "mimetype": "text/x-python",
   "name": "python",
   "nbconvert_exporter": "python",
   "pygments_lexer": "ipython3",
   "version": "3.5.1"
  }
 },
 "nbformat": 4,
 "nbformat_minor": 0
}
