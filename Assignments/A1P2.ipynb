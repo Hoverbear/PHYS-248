{
 "cells": [
  {
   "cell_type": "markdown",
   "metadata": {},
   "source": [
    "# Problem 2\n",
    "\n",
    "(2) In class we have seen implementations of the mid-point rule and Simpson's 3/8-method to approximate integrals. One of the key features of these methods (especially useful when your function comes from measured data) is that the technique uses as its input **only** the values of $f(x)$ at a finite number of points.  Sometimes one has access to **more** information about $f$ than simply its values.  In this problem, we ask you to write a script to approximate integrals numerically, but where one has a **symbolic** expression for $f$, and therefore using sympy, one also has access to $f'$. \n",
    "\n",
    "**Fact** Given an interval $[a,b]$ and numbers $f_a, f'_a, f_b, f'_b$ there exists one (and only one) cubic polynomial $p(x) = c_0 + c_1 x + c_2 x^2 + c_3 x^3$ such that $$p(a) = f_a, \\ \\ p'(a) = f'_a, \\ \\ p(b) = f_b, \\ \\ p'(b) = f'_b$$\n",
    "\n",
    "Moreover, one can solve for $c_0,c_1,c_2,c_3$ fairly easily.  The above equations are:\n",
    "\n",
    "$$c_0 + c_1 a + c_2 a^2 + c_3 a^3 = f_a \\ [eq.1]\\ \\ c_0 + c_1 b + c_2 b^2 + c_3 b^3 = f_b \\ [eq.2] $$\n",
    "$$c_1 + 2c_2a + 3c_3a^2 = f'_a \\ [eq.3] \\ \\ c_1 + 2c_2b+3c_3b^2 = f'_b \\ [eq.4] $$\n",
    "\n",
    "a little manipulation and one gets to the expression:\n",
    "\n",
    "$$\\pmatrix{ c_2 \\\\ c_3} = \\frac{1}{(a-b)^3} \\cdot \\pmatrix{ 3(b+a) & -2(b^2+ba+a^2) \\\\ -2 & b+a} \\cdot \\pmatrix{ f_0 - f_1 + bf_1' - af_0' \\\\ f_1' -f_0'}$$\n",
    "\n",
    "the middle expression is a $2 \\times 2$ matrix. From the above one can solve for $c_0$ and $c_1$ by back-substituting into [eq.1] and [eq.3] (or [eq.2] and [eq.4], your choice). \n",
    "\n",
    "Compare the accuracy of this method to the mid-point and Simpson 3/8-method, for the computation of the integral $\\int_0^\\pi \\sin(x) dx = 2$. Try the number of intervals $n=10, 100, 1000$ for all three methods. \n",
    "\n",
    "Aside from accuracy, what other considerations would cause you to prefer one method over the other two?"
   ]
  },
  {
   "cell_type": "code",
   "execution_count": 40,
   "metadata": {
    "collapsed": false
   },
   "outputs": [
    {
     "name": "stdout",
     "output_type": "stream",
     "text": [
      "Midpoint 10 2.00824840791\n",
      "Midpoint 100 2.00008224907\n",
      "Midpoint 1000 2.00000082247\n",
      "Three_eights 10 2.00038224209\n",
      "Three_eights 100 2.00000002536\n",
      "Three_eights 1000 2.0\n",
      "Described 10 1.58251749811499\n"
     ]
    }
   ],
   "source": [
    "import sympy\n",
    "import mpmath\n",
    "import numpy\n",
    "from IPython.display import display\n",
    "\n",
    "sympy.init_printing(use_latex='mathjax')\n",
    "\n",
    "\n",
    "\n",
    "def midpoint_integral(f, I, k): \n",
    "    sum = 0\n",
    "    deltax = (I[1]-I[0])/float(k)\n",
    "    for i in range (0, k):\n",
    "        x = ((i/float(k))*I[1]) + ((1.0-(i/float(k)))*I[0]) + deltax/2\n",
    "        sum = sum + f(x)*deltax\n",
    "    return sum\n",
    "\n",
    "\n",
    "def three_eights_integral(func, I, subdivisions): \n",
    "    sum = 0\n",
    "    deltax = (I[1]-I[0]) / subdivisions\n",
    "    for i in range (0, subdivisions):\n",
    "        xa = ((i / float(subdivisions)) *I[1]) + ((1-i / float(subdivisions)) *I[0]) \n",
    "        xb = ((i / float(subdivisions)) *I[1]) + ((1-i / float(subdivisions)) *I[0]) + deltax / 3 \n",
    "        xc = ((i / float(subdivisions)) *I[1]) + ((1-i / float(subdivisions)) *I[0]) + (2 * deltax) / 3\n",
    "        xd = ((i / float(subdivisions)) *I[1]) + ((1-i / float(subdivisions)) *I[0]) + deltax\n",
    "        sum = sum + (func(xa) + 3*func(xb) + 3*func(xc) + func(xd)) * deltax / 8\n",
    "    return sum\n",
    "\n",
    "def described_method(function, interval, subdivisions):\n",
    "    x, c_0, c_1, c_2, c_3 = sympy.symbols(\"x, c_0, c_1, c_2, c_3\")\n",
    "    f_a, f_b = sympy.symbols(\"f_a, f_b\")\n",
    "    #.subs(c_3, calc_c_3).subs(c_2, calc_c_2)\n",
    "    \n",
    "    total = 0\n",
    "    \n",
    "    deltax = (interval[1] - interval[0]) / float(subdivisions)\n",
    "    for index in range(0, subdivisions-1):\n",
    "        a = deltax*index\n",
    "        b = deltax*(index + 1)\n",
    "        f_a_calc = function(a)\n",
    "        fprime_a_calc = sympy.diff(function(x)).evalf(subs= { x: a })\n",
    "        f_b_calc = function(b)\n",
    "        fprime_b_calc = sympy.diff(function(x)).evalf(subs= { x: b })\n",
    "        # Do the work\n",
    "        calc_c_2, calc_c_3 = described_function(a, b, f_a_calc, fprime_a_calc, f_b_calc, fprime_b_calc)\n",
    "        # Calc\n",
    "        calc_c_1 = sympy.solve(\n",
    "            sympy.Eq(c_1 + (2 * c_2 * a) + (3 * c_3 * (a**2)), f_a_calc)\n",
    "                .subs(c_2, calc_c_2)\n",
    "                .subs(c_3, calc_c_3),\n",
    "            c_1)[0]\n",
    "        calc_c_0 = sympy.solve(\n",
    "            sympy.Eq(c_0 + (c_1 * a) + (c_2 * (a**2)) + (c_3 * (a**3)), fprime_a_calc)\n",
    "                .subs(c_1, calc_c_1)\n",
    "                .subs(c_2, calc_c_2)\n",
    "                .subs(c_3, calc_c_3),\n",
    "            c_0)[0]\n",
    "        \n",
    "        calc_value_a = (c_0 + (c_1 * x) + (c_2 * (x**2)) + (c_3 * (x**3))).evalf(subs= {\n",
    "                c_0: calc_c_0,\n",
    "                c_1: calc_c_1,\n",
    "                c_2: calc_c_2,\n",
    "                c_3: calc_c_3,\n",
    "                x: a\n",
    "            })\n",
    "        calc_value_b = (c_0 + (c_1 * x) + (c_2 * (x**2)) + (c_3 * (x**3))).evalf(subs= {\n",
    "                c_0: calc_c_0,\n",
    "                c_1: calc_c_1,\n",
    "                c_2: calc_c_2,\n",
    "                c_3: calc_c_3,\n",
    "                x: b\n",
    "            })\n",
    "        total += calc_value_b - calc_value_a\n",
    "    return total\n",
    "        \n",
    "        \n",
    "    \n",
    "def described_function(a_in, b_in, f_a_in, fprime_a_in, f_b_in, fprime_b_in):\n",
    "    a, b = sympy.symbols(\"a, b\")\n",
    "    f_a, fprime_a, f_b, fprime_b = sympy.symbols(\"f_a, f\\prime_a, f_b, f\\prime_b\")\n",
    "    # Define the left term.\n",
    "    left_term = (1.0 / ((a - b) ** 3))\n",
    "    # Define the middle term.\n",
    "    mid_term = sympy.Matrix([\n",
    "            [3 * (b + a), -2 * ((b ** 2) + (b*a) + (a ** 2))],\n",
    "            [-2, b + a]\n",
    "        ])\n",
    "    # Define the right term.\n",
    "    right_term = sympy.Matrix([\n",
    "            f_a - f_b + (b * fprime_b) - (a * fprime_a),\n",
    "            fprime_b - fprime_a\n",
    "        ])\n",
    "\n",
    "    return (left_term * sympy.Matrix(mid_term.dot(right_term))).evalf(subs = {\n",
    "            a: a_in,\n",
    "            b: b_in,\n",
    "            f_a: f_a_in,\n",
    "            fprime_a: fprime_a_in,\n",
    "            f_b: f_b_in,\n",
    "            fprime_b: fprime_b_in,\n",
    "\n",
    "        })\n",
    "    \n",
    "    \n",
    "    \n",
    "\n",
    "midpoint_results = [print(\"Midpoint\", subdivisions, midpoint_integral(numpy.sin, [0.0, numpy.pi], subdivisions))\n",
    "                    for subdivisions in [10, 100, 1000]]\n",
    "\n",
    "\n",
    "three_eights_results = [print(\"Three_eights\", subdivisions, three_eights_integral(numpy.sin, [0.0, numpy.pi], int(subdivisions / 3)))\n",
    "                        for subdivisions in [10, 100, 1000]]\n",
    "\n",
    "described_results = [print(\"Described\", subdivisions, described_method(sympy.sin, [0.0, numpy.pi], int(subdivisions)))\n",
    "                        for subdivisions in [10]]"
   ]
  },
  {
   "cell_type": "code",
   "execution_count": 66,
   "metadata": {
    "collapsed": false
   },
   "outputs": [
    {
     "data": {
      "text/latex": [
       "$$\\cos{\\left (x \\right )}$$"
      ],
      "text/plain": [
       "cos(x)"
      ]
     },
     "execution_count": 66,
     "metadata": {},
     "output_type": "execute_result"
    }
   ],
   "source": [
    "x = sympy.Symbol(\"x\")\n",
    "sympy.diff(sin(x))"
   ]
  },
  {
   "cell_type": "code",
   "execution_count": null,
   "metadata": {
    "collapsed": true
   },
   "outputs": [],
   "source": []
  }
 ],
 "metadata": {
  "kernelspec": {
   "display_name": "Python 3",
   "language": "python",
   "name": "python3"
  },
  "language_info": {
   "codemirror_mode": {
    "name": "ipython",
    "version": 3
   },
   "file_extension": ".py",
   "mimetype": "text/x-python",
   "name": "python",
   "nbconvert_exporter": "python",
   "pygments_lexer": "ipython3",
   "version": "3.5.1"
  }
 },
 "nbformat": 4,
 "nbformat_minor": 0
}
