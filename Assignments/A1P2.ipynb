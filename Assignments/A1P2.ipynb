{
 "cells": [
  {
   "cell_type": "markdown",
   "metadata": {},
   "source": [
    "# Problem 2\n",
    "\n",
    "(2) In class we have seen implementations of the mid-point rule and Simpson's 3/8-method to approximate integrals. One of the key features of these methods (especially useful when your function comes from measured data) is that the technique uses as its input **only** the values of $f(x)$ at a finite number of points.  Sometimes one has access to **more** information about $f$ than simply its values.  In this problem, we ask you to write a script to approximate integrals numerically, but where one has a **symbolic** expression for $f$, and therefore using sympy, one also has access to $f'$. \n",
    "\n",
    "**Fact** Given an interval $[a,b]$ and numbers $f_a, f'_a, f_b, f'_b$ there exists one (and only one) cubic polynomial $p(x) = c_0 + c_1 x + c_2 x^2 + c_3 x^3$ such that $$p(a) = f_a, \\ \\ p'(a) = f'_a, \\ \\ p(b) = f_b, \\ \\ p'(b) = f'_b$$\n",
    "\n",
    "Moreover, one can solve for $c_0,c_1,c_2,c_3$ fairly easily.  The above equations are:\n",
    "\n",
    "$$c_0 + c_1 a + c_2 a^2 + c_3 a^3 = f_0 \\ [eq.1]\\ \\ c_0 + c_1 b + c_2 b^2 + c_3 b^3 = f_1 \\ [eq.2] $$\n",
    "$$c_1 + 2c_2a + 3c_3a^2 = f'_0 \\ [eq.3] \\ \\ c_1 + 2c_2b+3c_3b^2 = f'_1 \\ [eq.4] $$\n",
    "\n",
    "a little manipulation and one gets to the expression:\n",
    "\n",
    "$$\\pmatrix{ c_2 \\\\ c_3} = \\frac{1}{(a-b)^3} \\cdot \\pmatrix{ 3(b+a) & -2(b^2+ba+a^2) \\\\ -2 & b+a} \\cdot \\pmatrix{ f_0 - f_1 + bf_1' - af_0' \\\\ f_1' -f_0'}$$\n",
    "\n",
    "the middle expression is a $2 \\times 2$ matrix. From the above one can solve for $c_0$ and $c_1$ by back-substituting into [eq.1] and [eq.3] (or [eq.2] and [eq.4], your choice). \n",
    "\n",
    "Compare the accuracy of this method to the mid-point and Simpson 3/8-method, for the computation of the integral $\\int_0^\\pi \\sin(x) dx = 2$. Try the number of intervals $n=10, 100, 1000$ for all three methods. \n",
    "\n",
    "Aside from accuracy, what other considerations would cause you to prefer one method over the other two?"
   ]
  },
  {
   "cell_type": "code",
   "execution_count": 1,
   "metadata": {
    "collapsed": false
   },
   "outputs": [
    {
     "name": "stdout",
     "output_type": "stream",
     "text": [
      "Midpoint with 10 subdivisions:  2.00205764829 Error  -0.00205764828542\n",
      "Three eights integral:  2.00002336737 Error  -2.33673671697e-05\n"
     ]
    }
   ],
   "source": [
    "import sympy\n",
    "import mpmath\n",
    "import numpy\n",
    "\n",
    "def midpoint_integral(f, I, k): \n",
    "    sum = 0\n",
    "    deltax = (I[1]-I[0])/float(k)\n",
    "    for i in range (0, k):\n",
    "        x = ((i/float(k))*I[1]) + ((1.0-(i/float(k)))*I[0]) + deltax/2\n",
    "        sum = sum + f(x)*deltax\n",
    "    return sum\n",
    "\n",
    "\n",
    "def three_eights_integral(func, I, subdivisions): \n",
    "    sum = 0\n",
    "    deltax = (I[1]-I[0]) / subdivisions\n",
    "    for i in range (0, subdivisions):\n",
    "        xa = ((i / float(subdivisions)) *I[1]) + ((1-i / float(subdivisions)) *I[0]) \n",
    "        xb = ((i / float(subdivisions)) *I[1]) + ((1-i / float(subdivisions)) *I[0]) + deltax / 3 \n",
    "        xc = ((i / float(subdivisions)) *I[1]) + ((1-i / float(subdivisions)) *I[0]) + (2 * deltax) / 3\n",
    "        xd = ((i / float(subdivisions)) *I[1]) + ((1-i / float(subdivisions)) *I[0]) + deltax\n",
    "        sum = sum + (func(xa) + 3*func(xb) + 3*func(xc) + func(xd)) * deltax / 8\n",
    "    return sum\n",
    "\n",
    "subdivisions = 20\n",
    "\n",
    "print(\"Midpoint with 10 subdivisions: \",\n",
    "      midpoint_integral(numpy.sin, [0.0, numpy.pi], subdivisions),\n",
    "      \"Error \",\n",
    "      2.0 - midpoint_integral(numpy.sin, [0.0, numpy.pi], subdivisions))\n",
    "print(\"Three eights integral: \",\n",
    "      three_eights_integral(numpy.sin, [0.0, numpy.pi], int(subdivisions / 3)),\n",
    "      \"Error \",\n",
    "      2.0 - three_eights_integral(numpy.sin, [0.0, numpy.pi], int(subdivisions / 3)))\n"
   ]
  },
  {
   "cell_type": "code",
   "execution_count": null,
   "metadata": {
    "collapsed": true
   },
   "outputs": [],
   "source": []
  }
 ],
 "metadata": {
  "kernelspec": {
   "display_name": "Python 3",
   "language": "python",
   "name": "python3"
  },
  "language_info": {
   "codemirror_mode": {
    "name": "ipython",
    "version": 3
   },
   "file_extension": ".py",
   "mimetype": "text/x-python",
   "name": "python",
   "nbconvert_exporter": "python",
   "pygments_lexer": "ipython3",
   "version": "3.5.1"
  }
 },
 "nbformat": 4,
 "nbformat_minor": 0
}
