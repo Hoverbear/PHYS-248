{
 "cells": [
  {
   "cell_type": "markdown",
   "metadata": {},
   "source": [
    "# Problem 1\n",
    "\n",
    "(1) Consider the cubic polynomial $z^3-1$.  The roots are $1, e^{2 \\pi i/3}$ and $e^{-2 \\pi i /3}$. Write a python function that takes as input four floating point numbers $x_0, x_1, y_0, y_1$ and an integer $n$, and plots (on the screen) which root Newton's method converges to, when one uses an initial guess in a grid of points in the rectangle $[x_0, x_1] \\times [y_0, y_1]$, using resolution $n$ for the grid.  Use colours to indicate which root Newton's method finds.  Include a plot for the rectangle $[-2,2] \\times [-2,2]$ with $n=400$.  I have included a symbolic version of Newton's method that allows you to use complex numbers as input, it is a slight modification of the algorithm from the second week."
   ]
  },
  {
   "cell_type": "code",
   "execution_count": 2,
   "metadata": {
    "collapsed": false
   },
   "outputs": [
    {
     "name": "stdout",
     "output_type": "stream",
     "text": [
      "Initial condition:  (1.0 + 0.5j)\n",
      "(0.826666666666667 + 0.12j)\n",
      "(1.0091012932686 - 0.0558270112377784j)\n",
      "(0.99709137869203 - 0.00121867816077464j)\n",
      "(1.00000699042881 + 7.12833910918834e-6j)\n",
      "(0.999999999998054 + 9.96593837084014e-11j)\n",
      "Evaluating  x**3 - 1  at  (0.999999999998054 + 9.96593837084014e-11j)  gives:  -5.8386629162883e-12 + 2.9897815112404e-10*I\n",
      "Initial condition:  (-1.0 + 0.5j)\n",
      "(-0.506666666666667 + 0.546666666666667j)\n",
      "(-0.383281777777778 + 0.962716444444444j)\n",
      "(-0.481017397612345 + 0.855182678305867j)\n",
      "(-0.500490032992377 + 0.866013502843391j)\n",
      "(-0.500000109982395 + 0.866025190244472j)\n",
      "Evaluating  x**3 - 1  at  (-0.500000109982395 + 0.866025190244472j)  gives:  -3.89819586060623e-7 + 6.06052437207287e-7*I\n"
     ]
    }
   ],
   "source": [
    "%matplotlib inline\n",
    "## Newton's method that allows for complex number input.\n",
    "import sympy\n",
    "import mpmath\n",
    "import matplotlib\n",
    "\n",
    "# Define some things for mpmath.\n",
    "mpmath.dps = 20\n",
    "mpmath.prec = mpmath.dps * 3.34\n",
    "mpmath.pretty = True\n",
    "\n",
    "# Define the symbolic functions.\n",
    "sym_x = sympy.Symbol(\"x\")\n",
    "sym_func = (sym_x ** 3) - 1\n",
    "\n",
    "def newtons_method(f):\n",
    "    return sym_x - f / sympy.diff(f,sym_x)\n",
    "\n",
    "newton_iterator = sympy.lambdify(sym_x, newtons_method(sym_func), \"mpmath\")\n",
    "\n",
    "# Here is an example of how Newton's method for z^3 - 1 converges to two different\n",
    "z = mpmath.mpc(1.0, 0.5) ## mpc is the mpmath arbitrary-precision complex number floating-point type.\n",
    "print(\"Initial condition: \", z)\n",
    "\n",
    "for i in range(0,5):\n",
    "    z = newton_iterator(z)\n",
    "    print(z)\n",
    "\n",
    "print(\"Evaluating \", sym_func, \" at \", z, \" gives: \", sym_func.evalf(subs = {sym_x : z}))\n",
    "\n",
    "\n",
    "# Second Example\n",
    "z = mpmath.mpc(-1,0.5)\n",
    "print(\"Initial condition: \", z)\n",
    "\n",
    "for i in range(0,5):\n",
    "    z = newton_iterator(z)\n",
    "    print(z)\n",
    "\n",
    "print(\"Evaluating \", sym_func, \" at \", z, \" gives: \", sym_func.evalf(subs = {sym_x : z}))"
   ]
  }
 ],
 "metadata": {
  "kernelspec": {
   "display_name": "Python 3",
   "language": "python",
   "name": "python3"
  },
  "language_info": {
   "codemirror_mode": {
    "name": "ipython",
    "version": 3
   },
   "file_extension": ".py",
   "mimetype": "text/x-python",
   "name": "python",
   "nbconvert_exporter": "python",
   "pygments_lexer": "ipython3",
   "version": "3.5.1"
  }
 },
 "nbformat": 4,
 "nbformat_minor": 0
}
