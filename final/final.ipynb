{
 "cells": [
  {
   "cell_type": "markdown",
   "metadata": {},
   "source": [
    "## Physics/Math 248 Final Exam.  \n",
    "\n",
    "You have three hours.  You are encouraged to use any material from the course, such as your own work and class notebooks. You are also free to use standard on-line resources such as Python reference manuals.  You must do all the work on your own, i.e. no consulting with fellow students or with people on-line.  Once you have completed your exam, push your notebook to your bitbucket repository. "
   ]
  },
  {
   "cell_type": "markdown",
   "metadata": {},
   "source": [
    "**Final Exam Problem Setup**\n",
    "\n",
    "We have two billiard balls $A$ and $B$, constrained to move along a frictionless line $x \\geq 0$. There is no gravity.  At position $x=0$ is an immovable elastic wall.  Billiard $A$ has mass $m_A$. Billiard $B$ has mass $m_B$.\n",
    "\n",
    "<img src=\"F.Q1.Setup.png\">\n",
    "\n",
    "The initial position of billard $A$ is $x=1$. The initial position of billiard $B$ is at $x=2$. \n",
    "\n",
    "As the wall is completely elastic, when billiard $A$ collides with the wall, its velocity instantaneously reverses, i.e. $v_A' = - v_A$. \n",
    "\n",
    "When billiard $A$ and $B$ collide, the new velocity of billiard $A$ and $B$ are given by:\n",
    "\n",
    "$$v_A' = \\frac{m_A-m_B}{m_A+m_B}v_A + \\frac{2m_B}{m_A+m_B}v_B$$\n",
    "$$v_B' = \\frac{m_B-m_A}{m_A+m_B}v_B + \\frac{2m_A}{m_A+m_B}v_A$$\n",
    "\n",
    "Thus provided $m_B > m_A$ billiard $A$ will undergo a sequence of velocity sign changes as it collides with billiard $B$ and the wall, in succession, until billiard $B$ escapes (to the right) at a larger velocity than billiard $A$. "
   ]
  },
  {
   "cell_type": "markdown",
   "metadata": {},
   "source": [
    "**Problem 1:**\n",
    "\n",
    "Write an algorithm that takes as input the initial velocity of billiard $A$, $B$, and the masses\n",
    "of billiards $A$ and $B$ respectively.  The output will be a pair $(c_1,c_2)$ where $c_1$ is the number of  collisions billiard $A$ makes with the wall, and $c_2$ is the number of collisions billiard $A$ makes with billiard $B$, before $B$ escapes to the right. \n",
    " \n",
    "<!-- <img src=\"F.Q1.Context.png\" /img> -->\n",
    "\n",
    "Note, the radius of the billiards is not relevant for any of the problems in this notebook. "
   ]
  },
  {
   "cell_type": "code",
   "execution_count": 56,
   "metadata": {
    "collapsed": false
   },
   "outputs": [
    {
     "data": {
      "text/plain": [
       "(1, 2)"
      ]
     },
     "execution_count": 56,
     "metadata": {},
     "output_type": "execute_result"
    }
   ],
   "source": [
    "def collision(v_a, v_b, m_a, m_b):\n",
    "    \"\"\"\n",
    "    Calculates a collision result.\n",
    "    \n",
    "    v_a: Velocity of a\n",
    "    v_b: Velocity of b\n",
    "    m_a: Mass of a\n",
    "    m_b: Mass of b\n",
    "    \n",
    "    Outputs (v_prime_a, v_prime_b)\n",
    "    \"\"\"\n",
    "    # Check args\n",
    "    v_a, v_b, m_a, m_b = float(v_a), float(v_b), float(m_a), float(m_b)\n",
    "    \n",
    "    v_prime_a = (((m_a - m_b) / (m_a + m_b)) * v_a) + (((2 * m_b) / (m_a + m_b)) * v_b)\n",
    "    v_prime_b = (((m_b - m_a) / (m_a + m_b)) * v_b) + (((2 * m_a) / (m_a + m_b)) * v_a) \n",
    "    return v_prime_a, v_prime_b\n",
    "\n",
    "def prob_1(v_a, v_b, m_a, m_b):\n",
    "    \"\"\"\n",
    "    Calculates a collision sequence.\n",
    "    \n",
    "    v_a: Velocity of a\n",
    "    v_b: Velocity of b\n",
    "    m_a: Mass of a\n",
    "    m_b: Mass of b\n",
    "    \n",
    "    Outputs (count of hits on wall, count of hits on balls)\n",
    "    \"\"\"\n",
    "    # Check Args.\n",
    "    v_a, v_b, m_a, m_b = float(v_a), float(v_b), float(m_a), float(m_b)\n",
    "    \n",
    "    c_1 = 0 # Number of collisions with wall.\n",
    "    c_2 = 0 # Collisions with the other ball.\n",
    "    \n",
    "    while abs(v_a) > abs(v_b) or v_a == 0 and v_b < 0:\n",
    "        c_2 += 1\n",
    "        v_prime_a, v_prime_b = collision(v_a, v_b, m_a, m_b)\n",
    "#         print v_prime_a, v_prime_b\n",
    "        if v_prime_a < 0:\n",
    "            # It collides with the wall and comes back with v*-1\n",
    "            c_1 += 1\n",
    "            v_prime_a *= -1\n",
    "        v_a = v_prime_a\n",
    "        v_b = v_prime_b\n",
    "        \n",
    "    \n",
    "    return c_1, c_2\n",
    "    \n",
    "prob_1(0, -1, 1, 1)"
   ]
  },
  {
   "cell_type": "markdown",
   "metadata": {},
   "source": [
    "**Problem 2: **\n",
    "\n",
    "For $m_A=1$ and $m_B = 10^2, 10^4, 10^6, \\cdots $, let the initial velocity of \n",
    "billiard $A$ be zero and the initial velocity of billiard $B$ be $-1$. \n",
    "\n",
    "Print out: \n",
    "\n",
    "    a) The number of collisions of A with the wall. \n",
    "    b) The number of collisions of B with A. \n",
    "    c) The total number of collisions of all types, i.e. (a)+(b). "
   ]
  },
  {
   "cell_type": "code",
   "execution_count": 80,
   "metadata": {
    "collapsed": false
   },
   "outputs": [
    {
     "name": "stdout",
     "output_type": "stream",
     "text": [
      "expo            c_1             c_2             c_1 + c_2      \n",
      "              1               1               2               3\n",
      "             10               5               5              10\n",
      "            100              15              16              31\n",
      "          10000             157             157             314\n",
      "        1000000            1570            1571            3141\n",
      "      100000000           15707           15708           31415\n",
      "    10000000000          157079          157080          314159\n"
     ]
    }
   ],
   "source": [
    "m_a = 1\n",
    "v_a = 0\n",
    "v_b = -1\n",
    "\n",
    "print \"{:15} {:15} {:15} {:15}\".format(\"expo\", \"c_1\", \"c_2\", \"c_1 + c_2\")\n",
    "for m_b_expo in [0, 1, 2, 4, 6, 8, 10]:\n",
    "    c_1, c_2 = prob_1(v_a, v_b, m_a, 10**m_b_expo)\n",
    "    \n",
    "    print \"{:15} {:15} {:15} {:15}\".format(10**m_b_expo, c_1, c_2, c_1 + c_2)"
   ]
  },
  {
   "cell_type": "markdown",
   "metadata": {
    "collapsed": true
   },
   "source": [
    "You should begin to see a pattern in your answer to Problem 2. \n",
    "\n",
    "**Problem 3: **\n",
    "\n",
    "Infer a function $f(m_B)$ so that the limit\n",
    "\n",
    "$$\\lim_{m_B \\to \\infty} \\frac{coll(m_B)}{f(m_B)} = L$$\n",
    "\n",
    "exists, with $L \\neq 0$.  \n",
    "\n",
    "$coll(m_B)$ is the sum of the number of collisions between $A$ and $B$, as well as $A$ and the wall, i.e. the answer to 2(c). "
   ]
  },
  {
   "cell_type": "code",
   "execution_count": 105,
   "metadata": {
    "collapsed": false
   },
   "outputs": [
    {
     "name": "stdout",
     "output_type": "stream",
     "text": [
      "expo                 coll                 f                    L                   \n",
      "                   1                    3        3.14159265359       0.954929658551\n",
      "                  10                   10         9.9345882658        1.00658424209\n",
      "                 100                   31        31.4159265359        0.98676064717\n",
      "               10000                  314        314.159265359       0.999493042617\n",
      "             1000000                 3141        3141.59265359       0.999811352503\n",
      "           100000000                31415        31415.9265359       0.999970507446\n",
      "         10000000000               314159        314159.265359       0.999999155336\n",
      "       1000000000000              3141592        3141592.65359       0.999999791956\n"
     ]
    }
   ],
   "source": [
    "def prob_2(m_b):\n",
    "    \"\"\"\n",
    "    Shows the f(m_b) from above.\n",
    "    \n",
    "    m_b: Mass of b\n",
    "    \n",
    "    Outputs the f(m_b).\n",
    "    \"\"\"\n",
    "    import math\n",
    "    #print math.sqrt(m_b)\n",
    "    return (math.pi * math.sqrt(m_b))\n",
    "\n",
    "print \"{:20} {:20} {:20} {:20}\".format(\"expo\", \"coll\", \"f\", \"L\")\n",
    "for m_b_expo in [0, 1, 2, 4, 6, 8, 10,12]:\n",
    "    c_1, c_2 = prob_1(v_a, v_b, m_a, 10**m_b_expo)\n",
    "    f_result = prob_2(10**m_b_expo)\n",
    "    print \"{:20} {:20} {:20} {:20}\".format(10**m_b_expo, c_1 + c_2, f_result, (c_1 + c_2) / f_result)"
   ]
  },
  {
   "cell_type": "markdown",
   "metadata": {},
   "source": [
    "$$ f(x) = \\pi * \\sqrt{m_b} $$"
   ]
  },
  {
   "cell_type": "markdown",
   "metadata": {},
   "source": [
    "**Problem 4: **\n",
    "\n",
    "To demonstrate how quickly $coll(m_B)/f(m_B)$ converges to $L$, create a plot consisting of:\n",
    "\n",
    "    1) A horizontal line at height L. \n",
    "    2) coll(m_B)/f(m_B) for m_B=1, 10, 10^2, 10^3, 10^4, 10^5, 10^6. \n",
    "\n",
    "Perhaps your x-coordinate should be $n$ where $m_B=10^n$.  Make the horizontal line (1) a different colour from (2)."
   ]
  },
  {
   "cell_type": "code",
   "execution_count": 125,
   "metadata": {
    "collapsed": false
   },
   "outputs": [
    {
     "name": "stdout",
     "output_type": "stream",
     "text": [
      "Populating the interactive namespace from numpy and matplotlib\n"
     ]
    },
    {
     "data": {
      "text/plain": [
       "[<matplotlib.lines.Line2D at 0x7f28cc0b23d0>]"
      ]
     },
     "execution_count": 125,
     "metadata": {},
     "output_type": "execute_result"
    },
    {
     "data": {
      "image/png": "[encoded data removed]",
      "text/plain": [
       "<matplotlib.figure.Figure at 0x7f28c7f11bd0>"
      ]
     },
     "metadata": {},
     "output_type": "display_data"
    }
   ],
   "source": [
    "% pylab inline\n",
    "import matplotlib.pyplot as plt\n",
    "\n",
    "x_set = [1, 10, 10**2, 10**3, 10**4, 10**5, 10**6]\n",
    "line = [1 for x in x_set]\n",
    "\n",
    "plt.plot(x_set, line, color=\"red\")\n",
    "\n",
    "x_calc = []\n",
    "for x in x_set:\n",
    "    c_1, c_2 = prob_1(v_a, v_b, m_a, 10**m_b_expo)\n",
    "    f_result = prob_2(10**m_b_expo)\n",
    "    \n",
    "    x_calc.append((c_1 + c_2) / f_result)\n",
    "\n",
    "plt.plot(x_set, x_calc, color=\"blue\")"
   ]
  },
  {
   "cell_type": "markdown",
   "metadata": {},
   "source": [
    "Note because these converge so quickly it appears there is only one line."
   ]
  },
  {
   "cell_type": "markdown",
   "metadata": {},
   "source": [
    "**Problem 5:**\n",
    "\n",
    "Write an algorithm that takes as input any initial masses, positions and initial velocities and outputs a (matplotlib) plot like the one below, which depicts the path both mass $A$ and $B$ take, including all collisions. \n",
    "\n",
    "<img src=\"F.Q1.Context.png\" /img>\n"
   ]
  },
  {
   "cell_type": "code",
   "execution_count": 40,
   "metadata": {
    "collapsed": false
   },
   "outputs": [
    {
     "name": "stdout",
     "output_type": "stream",
     "text": [
      "Populating the interactive namespace from numpy and matplotlib\n"
     ]
    },
    {
     "data": {
      "image/png": "[encoded data removed]",
      "text/plain": [
       "<matplotlib.figure.Figure at 0x7f5b80c08510>"
      ]
     },
     "metadata": {},
     "output_type": "display_data"
    },
    {
     "data": {
      "image/png": "[encoded data removed]",
      "text/plain": [
       "<matplotlib.figure.Figure at 0x7f5b80dc42d0>"
      ]
     },
     "metadata": {},
     "output_type": "display_data"
    }
   ],
   "source": [
    "% pylab inline \n",
    "def prob_5(v_a, v_b, m_a, m_b, x_a, x_b):\n",
    "    \"\"\"\n",
    "    Calculates a collision result.\n",
    "    \n",
    "    v_a: Velocity of a\n",
    "    v_b: Velocity of b\n",
    "    m_a: Mass of a\n",
    "    m_b: Mass of b\n",
    "    x_a: The x position of a\n",
    "    x_b: The x position of b\n",
    "    \n",
    "    Outputs a plot.\n",
    "    \"\"\"\n",
    "    v_a, v_b, m_a, m_b, x_a, x_b = float(v_a), float(v_b), float(m_a), float(m_b), float(x_a), float(x_b)\n",
    "    import matplotlib.pyplot as plt\n",
    "    import math\n",
    "    \n",
    "    x_points = [(x_a, x_b)] # (x_a, x_b)\n",
    "    times = [0]\n",
    "    time_so_far = 0.0\n",
    "    \n",
    "    while abs(v_a) > abs(v_b) or v_a == 0 and v_b < 0:\n",
    "        #print v_a, v_b\n",
    "        till_next_ball_hit = (x_b - x_a) / (v_b - v_a)\n",
    "        \n",
    "        till_next_wall_hit = float(\"inf\")\n",
    "        if v_a != 0 and x_a != 0:\n",
    "            till_next_wall_hit = x_a / (v_a)\n",
    "        \n",
    "        till_next_collision = 0\n",
    "        type_of_collision = None\n",
    "        \n",
    "        if till_next_wall_hit < till_next_ball_hit:\n",
    "            till_next_collision = till_next_wall_hit\n",
    "            type_of_collision = \"wall\"\n",
    "        else:\n",
    "            till_next_collision = till_next_ball_hit\n",
    "            type_of_collision = \"ball\"\n",
    "        \n",
    "        till_next_collision = abs(till_next_collision)\n",
    "        time_so_far += till_next_collision\n",
    "        \n",
    "        x_a += (v_a * till_next_collision)\n",
    "        x_b += (v_b * till_next_collision)\n",
    "        \n",
    "        if type_of_collision == \"wall\":\n",
    "            v_a *= -1\n",
    "            #print \"wall hit\", time_so_far, v_a, v_b\n",
    "        else:\n",
    "            v_a_new = (((m_a - m_b) / (m_a + m_b)) * v_a) + (((2 * m_b) / (m_a + m_b)) * v_b)\n",
    "            v_b_new = (((m_b - m_a) / (m_a + m_b)) * v_b) + (((2 * m_a) / (m_a + m_b)) * v_a) \n",
    "            v_a, v_b = v_a_new, v_b_new\n",
    "            #print \"ball hit\", time_so_far, v_a, v_b\n",
    "            \n",
    "        #print(x_a, x_b)\n",
    "        x_points.append((x_a, x_b))\n",
    "        times.append(time_so_far)\n",
    "#         if len(times) == 100:\n",
    "#             break\n",
    "    plt.title(\"For m_b = {}\".format(m_b))\n",
    "    plt.scatter([a for a, b in x_points], times, color=\"green\")\n",
    "    plt.scatter([b for a, b in x_points], times, color=\"red\")\n",
    "    plt.show()\n",
    "\n",
    "prob_5(0, -1, 1, 10, 1, 2)\n",
    "prob_5(0, -1, 1, 10**2, 1, 2)\n",
    "    \n",
    "    \n",
    "    "
   ]
  },
  {
   "cell_type": "code",
   "execution_count": null,
   "metadata": {
    "collapsed": true
   },
   "outputs": [],
   "source": []
  },
  {
   "cell_type": "code",
   "execution_count": null,
   "metadata": {
    "collapsed": true
   },
   "outputs": [],
   "source": []
  }
 ],
 "metadata": {
  "kernelspec": {
   "display_name": "Python 2",
   "language": "python2",
   "name": "python2"
  },
  "language_info": {
   "codemirror_mode": {
    "name": "ipython",
    "version": 2
   },
   "file_extension": ".py",
   "mimetype": "text/x-python",
   "name": "python",
   "nbconvert_exporter": "python",
   "pygments_lexer": "ipython2",
   "version": "2.7.11"
  }
 },
 "nbformat": 4,
 "nbformat_minor": 0
}
