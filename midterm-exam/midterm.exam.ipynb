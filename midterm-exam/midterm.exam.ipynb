{
 "cells": [
  {
   "cell_type": "markdown",
   "metadata": {},
   "source": [
    "# Mid-Term Exam\n",
    "\n",
    "## Intro:\n",
    "\n",
    "A naive model for a pendulum, experiencing only gravity and friction is given by\n",
    "the differential equation\n",
    "$$ \\theta'' + a\\theta' + b\\sin(\\theta) = 0$$\n",
    "with $a \\geq 0, b > 0$ constant. The model is dimensionless, and physical values for an actual problem would appear in the constants $a$ and $b$.\n",
    "\n",
    "Considering $\\theta'$ as a new variable we can turn this into a first-order ODE\n",
    "$$\\pmatrix{\\theta \\cr \\theta'}' = \\pmatrix{ \\theta' \\cr -a\\theta' -b\\sin\\theta}$$\n",
    "\n",
    "## Part 0:  \n",
    "Create a new directory in your personal repo called `midterm-exam`. Copy this notebook from the course repo into that directory. Do the solution inside this copied notebook. Add the entire directory to your personal git repo and push the solution back to your bitbucket remote. To be sure it will work set this up in the beginning and consider pushing intermediate results.\n",
    "\n",
    "\n",
    "## Part 1\n",
    "\n",
    "Write a function that takes as input:\n",
    "\n",
    "- An interval `I` that represents the dimensionless time interval, implemented as a 2-element array.\n",
    "- The number of divisions `n` of the interval `I`.\n",
    "- The initial value of θ\n",
    "- The initial value of θ'\n",
    "    \n",
    "   The function should return an array `[T, thA, thpA]` where:\n",
    "   \n",
    "   - `T` is an array that represents dimensionless time steps and consists of `n` regularly spaced points in `I`\n",
    "   - `thA` is an array consists of the approximate values of $\\theta$ at the times of `T`.\n",
    "   - `thpA` is an array consists of the approximate values of $\\theta'$ at the times of `T`. \n",
    "\n",
    "Use Eulers method to construct `thA` and `thpA`, i.e.:\n",
    "\n",
    "$$\\theta(t + \\Delta t ) \\simeq \\theta(t) + \\Delta t \\theta'(t)$$\n",
    "$$\\theta'(t+\\Delta t) \\simeq \\theta'(t) + \\Delta t \\theta''(t).$$\n",
    "\n",
    "i.e. $thA[i+1] = thA[i] + \\Delta t * thpA[i]$, etc. "
   ]
  },
  {
   "cell_type": "code",
   "execution_count": 62,
   "metadata": {
    "collapsed": false
   },
   "outputs": [
    {
     "data": {
      "text/plain": [
       "[array([   0.,   25.,   50.,   75.,  100.]),\n",
       " array([ 1.        ,  3.        ,  3.        ,  2.85887999,  2.15852902]),\n",
       " array([ 2.        , -0.14112001, -0.84147098, -0.14112001, -0.14112001])]"
      ]
     },
     "execution_count": 62,
     "metadata": {},
     "output_type": "execute_result"
    }
   ],
   "source": [
    "def part_1(I, n, theta, theta_prime):\n",
    "    \"\"\"\n",
    "    Returns a 3-array of [T, thA, thpA] which models the movement of a pendulum.\n",
    "    \n",
    "    Params:\n",
    "        I - An interval I that represents the dimensionless time interval, implemented as a 2-element array.\n",
    "        n - The number of divisions n of the interval I. Should not be 0.\n",
    "        theta - The initial value of θ\n",
    "        theta_prime - The initial value of θ'\n",
    "    \"\"\"\n",
    "    if n == 0:\n",
    "        raise ValueError(\"n should not be 0\")\n",
    "    \n",
    "    import numpy\n",
    "    interval = numpy.linspace(I[0], I[1], n)\n",
    "    #step_size = (I[1] - I[0]) / n # Nah... This is one.\n",
    "    \n",
    "    thA = [theta]\n",
    "    thpA = [theta_prime]\n",
    "    # Ignore the first step since we have initial value.\n",
    "    for step in range(0, len(interval[1:])):\n",
    "        thA.append(thA[step-1] + (1 * thpA[step-1]))\n",
    "        # Naively calculate the second derivative.\n",
    "        theta_prime_prime = - (1*thpA[step-1]) - (1*sin(thA[step-1]))\n",
    "        thpA.append(thpA[step-1] + (1 * theta_prime_prime)) # possibly wrong.\n",
    "    return [interval, numpy.array(thA), numpy.array(thpA)]\n",
    "\n",
    "part_1([0, 100], 5, 1., 2.)"
   ]
  },
  {
   "cell_type": "markdown",
   "metadata": {},
   "source": [
    "## Part 2\n",
    "\n",
    "Sketch a few of your solutions $(t,y)$ for various step sizes, `n=10`, `n=50`, `n=200` with \n",
    "initial conditions:\n",
    "\n",
    "$$ a = 1, \\ \\ \\ b=1, \\ \\ \\ \\theta(0) = 0, \\ \\ \\ \\theta'(0) = 10. $$\n"
   ]
  },
  {
   "cell_type": "code",
   "execution_count": 60,
   "metadata": {
    "collapsed": false
   },
   "outputs": [
    {
     "name": "stdout",
     "output_type": "stream",
     "text": [
      "Populating the interactive namespace from numpy and matplotlib\n"
     ]
    },
    {
     "data": {
      "text/plain": [
       "[<matplotlib.lines.Line2D at 0x7f578f165e50>]"
      ]
     },
     "execution_count": 60,
     "metadata": {},
     "output_type": "execute_result"
    },
    {
     "data": {
      "image/png": "[encoded data removed]",
      "text/plain": [
       "<matplotlib.figure.Figure at 0x7f578f0cb6d0>"
      ]
     },
     "metadata": {},
     "output_type": "display_data"
    },
    {
     "data": {
      "image/png": "[encoded data removed]",
      "text/plain": [
       "<matplotlib.figure.Figure at 0x7f578f15d9d0>"
      ]
     },
     "metadata": {},
     "output_type": "display_data"
    },
    {
     "data": {
      "image/png": "[encoded data removed]",
      "text/plain": [
       "<matplotlib.figure.Figure at 0x7f578fa44910>"
      ]
     },
     "metadata": {},
     "output_type": "display_data"
    }
   ],
   "source": [
    "%pylab inline\n",
    "\n",
    "figure()\n",
    "title(\"n=10\")\n",
    "T, thA, thpA = part_1([0, 2*pi*20], 10, 0, 10)\n",
    "plot(T, thA)\n",
    "\n",
    "figure()\n",
    "title(\"n=50\")\n",
    "T, thA, thpA = part_1([0, 2*pi*20], 50, 0, 10)\n",
    "plot(T, thA)\n",
    "\n",
    "figure()\n",
    "title(\"n=200\")\n",
    "T, thA, thpA = part_1([0, 2*pi*20], 200, 0, 10)\n",
    "plot(T, thA)"
   ]
  },
  {
   "cell_type": "markdown",
   "metadata": {},
   "source": [
    "## Part 3\n",
    "\n",
    "Your solution will converge asymptotically to $\\theta = 2\\pi k$ for some integer $k$, i.e. the pendulum will eventually come to rest after possibly revolving $k$ times.  Make sure your numerical solution is accurate enough so that the Euler-approximation to your differential equation can predict what $k$ is for the initial conditions in part 2. "
   ]
  },
  {
   "cell_type": "code",
   "execution_count": 61,
   "metadata": {
    "collapsed": false
   },
   "outputs": [
    {
     "name": "stdout",
     "output_type": "stream",
     "text": [
      "2\n",
      "2\n",
      "2\n"
     ]
    }
   ],
   "source": [
    "# There are no outcomes to this question. In theory we could just say \"Okay we did it\"? Trying anyways...\n",
    "\n",
    "def part_3(I, n, theta, theta_prime):\n",
    "    \"\"\"\n",
    "    Returns the integer k which the solution from part_1 converges too.\n",
    "    \n",
    "    Params:\n",
    "        I - An interval I that represents the dimensionless time interval, implemented as a 2-element array.\n",
    "        n - The number of divisions n of the interval I. Should not be 0.\n",
    "        theta - The initial value of θ\n",
    "        theta_prime - The initial value of θ'\n",
    "    \"\"\"\n",
    "    import numpy\n",
    "    T, thA, thpA = part_1(I, n, theta, theta_prime)\n",
    "    # Fix up any imprecisions with round.\n",
    "    k = int(numpy.round(thA[-1] / (2*pi)))\n",
    "    return k\n",
    "\n",
    "print(part_3([0, 2*pi*20], 10, 0, 10))\n",
    "\n",
    "print(part_3([0, 2*pi*20], 50, 0, 10))\n",
    "\n",
    "print(part_3([0, 2*pi*20], 200, 0, 10))"
   ]
  },
  {
   "cell_type": "code",
   "execution_count": null,
   "metadata": {
    "collapsed": true
   },
   "outputs": [],
   "source": []
  }
 ],
 "metadata": {
  "kernelspec": {
   "display_name": "Python 2",
   "language": "python2",
   "name": "python2"
  },
  "language_info": {
   "codemirror_mode": {
    "name": "ipython",
    "version": 2
   },
   "file_extension": ".py",
   "mimetype": "text/x-python",
   "name": "python",
   "nbconvert_exporter": "python",
   "pygments_lexer": "ipython2",
   "version": "2.7.11"
  }
 },
 "nbformat": 4,
 "nbformat_minor": 0
}
