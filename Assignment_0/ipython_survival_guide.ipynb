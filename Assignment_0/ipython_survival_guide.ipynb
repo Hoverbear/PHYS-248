{
 "cells": [
  {
   "cell_type": "markdown",
   "metadata": {},
   "source": [
    "# Using Python 3"
   ]
  },
  {
   "cell_type": "code",
   "execution_count": 9,
   "metadata": {
    "collapsed": false
   },
   "outputs": [
    {
     "name": "stdout",
     "output_type": "stream",
     "text": [
      "0 is a multiple of ten.\n",
      "5 is a multiple of 5.\n",
      "10 is a multiple of ten.\n",
      "15 is a multiple of 5.\n",
      "20 is a multiple of ten.\n",
      "25 is a multiple of 5.\n",
      "30 is a multiple of ten.\n",
      "35 is a multiple of 5.\n",
      "40 is a multiple of ten.\n",
      "45 is a multiple of 5.\n",
      "50 is a multiple of ten.\n",
      "55 is a multiple of 5.\n",
      "60 is a multiple of ten.\n",
      "65 is a multiple of 5.\n",
      "70 is a multiple of ten.\n",
      "75 is a multiple of 5.\n",
      "80 is a multiple of ten.\n",
      "85 is a multiple of 5.\n",
      "90 is a multiple of ten.\n",
      "95 is a multiple of 5.\n"
     ]
    }
   ],
   "source": [
    "def some_function(some_param):\n",
    "    \"\"\"\n",
    "    Blah blah blah some documentation.\n",
    "    \"\"\"\n",
    "    print(str(some_param) + \" is a multiple of ten.\")\n",
    "    \n",
    "for i in range(0, 100):\n",
    "    if i % 10 == 0:\n",
    "        some_function(i)\n",
    "    elif i % 5 == 0:\n",
    "        print(str(i) + \" is a multiple of 5.\")\n"
   ]
  },
  {
   "cell_type": "markdown",
   "metadata": {},
   "source": [
    "# Calculating the Ludophine Number"
   ]
  },
  {
   "cell_type": "code",
   "execution_count": 46,
   "metadata": {
    "collapsed": false
   },
   "outputs": [
    {
     "data": {
      "text/plain": [
       "3.132648372382869"
      ]
     },
     "execution_count": 46,
     "metadata": {},
     "output_type": "execute_result"
    },
    {
     "data": {
      "image/png": "[encoded data removed]",
      "text/plain": [
       "<matplotlib.figure.Figure at 0x7fb9b4d3b2e8>"
      ]
     },
     "metadata": {},
     "output_type": "display_data"
    }
   ],
   "source": [
    "import math\n",
    "import matplotlib\n",
    "\n",
    "def calc_y(x):\n",
    "    return math.sqrt(1 - math.pow(x, 2))\n",
    "\n",
    "def cartesian_distance(first, second):\n",
    "    x_1, y_1 = first\n",
    "    x_2, y_2 = second\n",
    "    return math.sqrt(math.pow(x_2 - x_1, 2) + math.pow(y_2 - y_1, 2))\n",
    "\n",
    "def get_xy(n):\n",
    "    x_values = [x / n for x in range(0, n)]\n",
    "    y_values = [calc_y(x) for x in x_values]\n",
    "    return list(zip(x_values, y_values))\n",
    "\n",
    "num_points = 100000\n",
    "# Calculate the x,y\n",
    "points = get_xy(num_points)\n",
    "\n",
    "# Show a demo\n",
    "x_set, y_set = list(zip(*points))\n",
    "matplotlib.pyplot.scatter(x_set, y_set)\n",
    "\n",
    "# Calculate the cartesian distance around 1/4 of a circle. Use this to estimate Pi\n",
    "# (Pi is circumference / diameter, and we know r = 1, so d = 2)\n",
    "sum([cartesian_distance(first, second) for first, second in zip(points, points[1:])]) * 4 / 2"
   ]
  },
  {
   "cell_type": "markdown",
   "metadata": {
    "collapsed": true
   },
   "source": [
    "\n"
   ]
  },
  {
   "cell_type": "code",
   "execution_count": null,
   "metadata": {
    "collapsed": true
   },
   "outputs": [],
   "source": []
  }
 ],
 "metadata": {
  "kernelspec": {
   "display_name": "Python 3",
   "language": "python",
   "name": "python3"
  },
  "language_info": {
   "codemirror_mode": {
    "name": "ipython",
    "version": 3
   },
   "file_extension": ".py",
   "mimetype": "text/x-python",
   "name": "python",
   "nbconvert_exporter": "python",
   "pygments_lexer": "ipython3",
   "version": "3.5.1"
  }
 },
 "nbformat": 4,
 "nbformat_minor": 0
}
