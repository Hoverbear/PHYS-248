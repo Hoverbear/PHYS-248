{
 "cells": [
  {
   "cell_type": "markdown",
   "metadata": {
    "collapsed": true
   },
   "source": [
    "First let's define some code to fetch the data:"
   ]
  },
  {
   "cell_type": "code",
   "execution_count": 14,
   "metadata": {
    "collapsed": false
   },
   "outputs": [],
   "source": [
    "from datetime import date, datetime\n",
    "from urllib.request import urlopen\n",
    "from json import loads\n",
    "\n",
    "def datestring_to_date(datestring):\n",
    "    from datetime import datetime\n",
    "    return datetime.strptime(datestring, \"%Y-%m-%dT%H:%M:%SZ\")\n",
    "\n",
    "def get_crime_reports(start=date(2015,1,1), end=date(2016,3,1), incident_types=range(0,200)):\n",
    "    \"\"\"\n",
    "    Gets a set of crime reports for the VicPD in roughly the Victoria area from start to end dates. This will take a bit due to rate limiting and the volume of data produced.\n",
    "\n",
    "    Returns a list of CrimeReports.\n",
    "    \"\"\"\n",
    "    # This covers most of Victoria\n",
    "    rows = range(2831, 2834)\n",
    "    cols = range(1286, 1291)\n",
    "    \n",
    "    start_param = start.strftime(\"%Y/%m/%d\")\n",
    "    end_param = end.strftime(\"%Y/%m/%d\")\n",
    "\n",
    "    crimes = []\n",
    "    incident_types = \",\".join([str(x) for x in incident_types])\n",
    "    \n",
    "    for row in rows:\n",
    "        for col in cols:\n",
    "            #print(\"Getting row \"+str(row)+\" col \"+str(col))\n",
    "            url = \"https://www.crimereports.com/v3/crime_reports/map/search_by_tile.json?start_date=\"+start_param+\"&end_date=\"+end_param+\"&incident_type_ids=\"+incident_types+\"&org_ids=1550&row=\"+str(row)+\"&column=\"+str(col)+\"&zoom=13&include_sex_offenders=false\"\n",
    "            raw_data = urlopen(url).read().decode(\"utf-8\")\n",
    "            this_data = loads(raw_data)\n",
    "            if this_data[\"crimes\"]:\n",
    "                #print(str(len(this_data[\"crimes\"]))+\" crimes found on this tile\")\n",
    "                for item in this_data[\"crimes\"]:\n",
    "                    crimes.append(item)\n",
    "                    \n",
    "    # It was discovered that the data is frequently duplicated. Let's dedup.\n",
    "    seen_ids = set()\n",
    "    unique_crimes = []\n",
    "    for crime in crimes:\n",
    "        if crime[\"id\"] not in seen_ids:\n",
    "            seen_ids.add(crime[\"id\"])\n",
    "            unique_crimes.append(crime)\n",
    "\n",
    "    return unique_crimes"
   ]
  },
  {
   "cell_type": "markdown",
   "metadata": {},
   "source": [
    "Now lets get the crimes arranged by category, first we need to build out the categories. Initial data retrieved by running the following JS in page console. Figured out by inspecting the minified source.\n",
    "\n",
    "```js\n",
    "categories = {};\n",
    "categoryTypes.map(function (x) {\n",
    "    created_cat = {};\n",
    "    created_cat.id = x.id;\n",
    "    if (x.children) {\n",
    "        created_cat.children = {};\n",
    "        x.children.map(function (y) {\n",
    "            created_subcat = {};\n",
    "            created_subcat.id = y.id;\n",
    "            created_cat.children[y.name] = created_subcat;\n",
    "        });\n",
    "    }\n",
    "    categories[x.name] = created_cat;\n",
    "});\n",
    "JSON.stringify(categories, null, 2)\n",
    "\n",
    "```"
   ]
  },
  {
   "cell_type": "code",
   "execution_count": 3,
   "metadata": {
    "collapsed": false
   },
   "outputs": [],
   "source": [
    "categories = {\n",
    "  \"Homicide\": {\n",
    "    \"id\": 104,\n",
    "    \"children\": {}\n",
    "  },\n",
    "  \"Breaking & Entering\": {\n",
    "    \"id\": 100,\n",
    "    \"children\": {}\n",
    "  },\n",
    "  \"Robbery\": {\n",
    "    \"id\": 98,\n",
    "    \"children\": {}\n",
    "  },\n",
    "  \"Theft\": {\n",
    "    \"id\": 103,\n",
    "    \"children\": {}\n",
    "  },\n",
    "  \"Theft of Vehicle\": {\n",
    "    \"id\": 99,\n",
    "    \"children\": {}\n",
    "  },\n",
    "  \"Theft from Vehicle\": {\n",
    "    \"id\": 101,\n",
    "    \"children\": {}\n",
    "  },\n",
    "  \"Vehicle Recovery\": {\n",
    "    \"id\": 170,\n",
    "    \"children\": {}\n",
    "  },\n",
    "  \"Sexual Offense\": {\n",
    "    \"id\": 8,\n",
    "    \"children\": {\n",
    "      \"Other Sexual Offense\": {\n",
    "        \"id\": 97\n",
    "      },\n",
    "      \"Sexual Assault\": {\n",
    "        \"id\": 148\n",
    "      }\n",
    "    }\n",
    "  },\n",
    "  \"Assault \": {\n",
    "    \"id\": 9,\n",
    "    \"children\": {\n",
    "      \"Assault\": {\n",
    "        \"id\": 149\n",
    "      },\n",
    "      \"Assault with Deadly Weapon\": {\n",
    "        \"id\": 150\n",
    "      }\n",
    "    }\n",
    "  },\n",
    "  \"Property Crime \": {\n",
    "    \"id\": 10,\n",
    "    \"children\": {\n",
    "      \"Property Crime\": {\n",
    "        \"id\": 180\n",
    "      },\n",
    "      \"Property Crime Commercial\": {\n",
    "        \"id\": 179\n",
    "      },\n",
    "      \"Property Crime Residential\": {\n",
    "        \"id\": 178\n",
    "      }\n",
    "    }\n",
    "  },\n",
    "  \"Other \": {\n",
    "    \"id\": 11,\n",
    "    \"children\": {\n",
    "      \"Alarm\": {\n",
    "        \"id\": 160\n",
    "      },\n",
    "      \"Arson\": {\n",
    "        \"id\": 121\n",
    "      },\n",
    "      \"Death\": {\n",
    "        \"id\": 162\n",
    "      },\n",
    "      \"Family Offense\": {\n",
    "        \"id\": 164\n",
    "      },\n",
    "      \"Kidnapping\": {\n",
    "        \"id\": 165\n",
    "      },\n",
    "      \"Missing Person\": {\n",
    "        \"id\": 167\n",
    "      },\n",
    "      \"Other\": {\n",
    "        \"id\": 151\n",
    "      },\n",
    "      \"Weapons Offense\": {\n",
    "        \"id\": 171\n",
    "      }\n",
    "    }\n",
    "  },\n",
    "  \"Quality of Life\": {\n",
    "    \"id\": 12,\n",
    "    \"children\": {\n",
    "      \"Disorder\": {\n",
    "        \"id\": 163\n",
    "      },\n",
    "      \"Drugs\": {\n",
    "        \"id\": 168\n",
    "      },\n",
    "      \"Liquor\": {\n",
    "        \"id\": 166\n",
    "      }\n",
    "    }\n",
    "  },\n",
    "  \"Traffic\": {\n",
    "    \"id\": 169,\n",
    "    \"children\": {}\n",
    "  },\n",
    "  \"Fire\": {\n",
    "    \"id\": 15,\n",
    "    \"children\": {}\n",
    "  },\n",
    "  \"Emergency\": {\n",
    "    \"id\": 16,\n",
    "    \"children\": {}\n",
    "  },\n",
    "  \"Proactive Policing\": {\n",
    "    \"id\": 14,\n",
    "    \"children\": {\n",
    "      \"Community Policing\": {\n",
    "        \"id\": 161\n",
    "      },\n",
    "      \"Pedestrian Stop\": {\n",
    "        \"id\": 173\n",
    "      },\n",
    "      \"Vehicle Stop\": {\n",
    "        \"id\": 172\n",
    "      }\n",
    "    }\n",
    "  }\n",
    "}\n",
    "\n",
    "# Build a lookup dict \n",
    "category_id_lookup = {}\n",
    "for category_name,category in categories.items():\n",
    "    category_id_lookup[category[\"id\"]] = category\n",
    "    if category[\"children\"]:\n",
    "        for child_name,child in category[\"children\"].items():\n",
    "            category_id_lookup[child[\"id\"]] = child\n",
    "for category in category_id_lookup.keys():\n",
    "    category_id_lookup[category][\"crimes\"] = []"
   ]
  },
  {
   "cell_type": "code",
   "execution_count": 4,
   "metadata": {
    "collapsed": false
   },
   "outputs": [],
   "source": [
    "# Get all the reports. This takes a few seconds and is thus it's on cell. Avoid re-running this.\n",
    "crimes = get_crime_reports(incident_types=category_id_lookup.keys())"
   ]
  },
  {
   "cell_type": "markdown",
   "metadata": {},
   "source": [
    "Arrange the crimes into their appropriate places."
   ]
  },
  {
   "cell_type": "code",
   "execution_count": 5,
   "metadata": {
    "collapsed": false
   },
   "outputs": [],
   "source": [
    "for crime in crimes:\n",
    "    category = category_id_lookup[crime['incident_type_id']]\n",
    "    category[\"crimes\"].append(crime)"
   ]
  },
  {
   "cell_type": "markdown",
   "metadata": {},
   "source": [
    "# Frequency Breakdowns"
   ]
  },
  {
   "cell_type": "code",
   "execution_count": 6,
   "metadata": {
    "collapsed": false
   },
   "outputs": [
    {
     "name": "stdout",
     "output_type": "stream",
     "text": [
      "    0 Other                         \n",
      "\t     0 Death                         \n",
      "\t     0 Missing Person                \n",
      "\t    17 Arson                         \n",
      "\t    55 Weapons Offense               \n",
      "\t     0 Kidnapping                    \n",
      "\t  1626 Other                         \n",
      "\t    95 Alarm                         \n",
      "\t     0 Family Offense                \n",
      "    0 Homicide                      \n",
      "  301 Breaking & Entering           \n",
      "    0 Sexual Offense                \n",
      "\t     0 Other Sexual Offense          \n",
      "\t     0 Sexual Assault                \n",
      "    0 Fire                          \n",
      " 1526 Traffic                       \n",
      "    0 Proactive Policing            \n",
      "\t   244 Vehicle Stop                  \n",
      "\t   416 Pedestrian Stop               \n",
      "\t     1 Community Policing            \n",
      "   53 Robbery                       \n",
      "    0 Emergency                     \n",
      "  111 Theft of Vehicle              \n",
      "    0 Vehicle Recovery              \n",
      "    0 Quality of Life               \n",
      "\t   173 Disorder                      \n",
      "\t   689 Liquor                        \n",
      "\t   220 Drugs                         \n",
      " 1331 Theft                         \n",
      "    0 Assault                       \n",
      "\t   121 Assault with Deadly Weapon    \n",
      "\t    48 Assault                       \n",
      "  567 Theft from Vehicle            \n",
      "    0 Property Crime                \n",
      "\t   546 Property Crime                \n",
      "\t     0 Property Crime Commercial     \n",
      "\t     0 Property Crime Residential    \n"
     ]
    }
   ],
   "source": [
    "for category,data in categories.items():\n",
    "    print(\"{:5d} {:30s}\".format(len(data[\"crimes\"]), category))\n",
    "    for child_name,child_data in data[\"children\"].items():\n",
    "        print(\"\\t {:5d} {:30s}\".format(len(child_data[\"crimes\"]), child_name))"
   ]
  },
  {
   "cell_type": "markdown",
   "metadata": {},
   "source": [
    "It was noted that the \"parents\" are not necessarily composed of their children. This is probably due to legacy data."
   ]
  },
  {
   "cell_type": "markdown",
   "metadata": {},
   "source": [
    "# Drugs on Fridays\n",
    "\n",
    "(We copied this so we can confirm it's working.)"
   ]
  },
  {
   "cell_type": "code",
   "execution_count": 7,
   "metadata": {
    "collapsed": false
   },
   "outputs": [
    {
     "data": {
      "text/html": [
       "<div style=\"width:100%;\"><div style=\"position:relative;width:100%;height:0;padding-bottom:60%;\"><iframe src=\"data:text/html;base64,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\" style=\"position:absolute;width:100%;height:100%;left:0;top:0;\"></iframe></div></div>"
      ],
      "text/plain": [
       "<folium.folium.Map at 0x7f5ec3eff5c0>"
      ]
     },
     "execution_count": 7,
     "metadata": {},
     "output_type": "execute_result"
    }
   ],
   "source": [
    "## Heatmap, drugs on Fridays\n",
    "import folium\n",
    "from folium import plugins\n",
    "data = []\n",
    "for crime in categories[\"Quality of Life\"][\"children\"][\"Drugs\"][\"crimes\"]:\n",
    "    # If the date is Friday\n",
    "    if datestring_to_date(crime[\"incident_date_time\"]).weekday() == 4:\n",
    "        data.append([crime[\"lat\"], crime[\"lng\"], 0.1])\n",
    "        \n",
    "mapa = folium.Map([48.4323, -123.3720], tiles='OpenStreetMap', zoom_start=13)\n",
    "mapa.add_children(plugins.HeatMap(data))\n",
    "mapa"
   ]
  },
  {
   "cell_type": "markdown",
   "metadata": {},
   "source": [
    "# Theft Morning/Afternoon/Night\n",
    "\n",
    "First, day between 2AM and 12PM:"
   ]
  },
  {
   "cell_type": "code",
   "execution_count": 8,
   "metadata": {
    "collapsed": false
   },
   "outputs": [
    {
     "data": {
      "text/html": [
       "<div style=\"width:100%;\"><div style=\"position:relative;width:100%;height:0;padding-bottom:60%;\"><iframe src=\"data:text/html;base64,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\" style=\"position:absolute;width:100%;height:100%;left:0;top:0;\"></iframe></div></div>"
      ],
      "text/plain": [
       "<folium.folium.Map at 0x7f5ec4321ef0>"
      ]
     },
     "execution_count": 8,
     "metadata": {},
     "output_type": "execute_result"
    }
   ],
   "source": [
    "## Heatmap, theft on days or nights.\n",
    "import folium\n",
    "from folium import plugins\n",
    "morning = []; afternoon = []; night = [];\n",
    "for crime in categories[\"Theft\"][\"crimes\"]:\n",
    "    # If the date is Friday\n",
    "    hour_of_crime = datestring_to_date(crime[\"incident_date_time\"]).time().hour\n",
    "    if (hour_of_crime > 2 and hour_of_crime < 12):\n",
    "        morning.append([crime[\"lat\"], crime[\"lng\"], 0.1])\n",
    "    elif (hour_of_crime > 12 and hour_of_crime < 20):\n",
    "        afternoon.append([crime[\"lat\"], crime[\"lng\"], 0.1])\n",
    "    else:\n",
    "        night.append([crime[\"lat\"], crime[\"lng\"], 0.1])\n",
    "        \n",
    "mapa = folium.Map([48.4323, -123.3720], tiles='OpenStreetMap', zoom_start=13)\n",
    "mapa.add_children(plugins.HeatMap(morning))\n",
    "mapa"
   ]
  },
  {
   "cell_type": "code",
   "execution_count": 9,
   "metadata": {
    "collapsed": false
   },
   "outputs": [
    {
     "data": {
      "text/html": [
       "<div style=\"width:100%;\"><div style=\"position:relative;width:100%;height:0;padding-bottom:60%;\"><iframe src=\"data:text/html;base64,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\" style=\"position:absolute;width:100%;height:100%;left:0;top:0;\"></iframe></div></div>"
      ],
      "text/plain": [
       "<folium.folium.Map at 0x7f5ec3d6f9e8>"
      ]
     },
     "execution_count": 9,
     "metadata": {},
     "output_type": "execute_result"
    }
   ],
   "source": [
    "mapa = folium.Map([48.4323, -123.3720], tiles='OpenStreetMap', zoom_start=13)\n",
    "mapa.add_children(plugins.HeatMap(afternoon))\n",
    "mapa"
   ]
  },
  {
   "cell_type": "code",
   "execution_count": 10,
   "metadata": {
    "collapsed": false
   },
   "outputs": [
    {
     "data": {
      "text/html": [
       "<div style=\"width:100%;\"><div style=\"position:relative;width:100%;height:0;padding-bottom:60%;\"><iframe src=\"data:text/html;base64,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\" style=\"position:absolute;width:100%;height:100%;left:0;top:0;\"></iframe></div></div>"
      ],
      "text/plain": [
       "<folium.folium.Map at 0x7f5ec3ccfd68>"
      ]
     },
     "execution_count": 10,
     "metadata": {},
     "output_type": "execute_result"
    }
   ],
   "source": [
    "mapa = folium.Map([48.4323, -123.3720], tiles='OpenStreetMap', zoom_start=13)\n",
    "mapa.add_children(plugins.HeatMap(night))\n",
    "mapa"
   ]
  },
  {
   "cell_type": "code",
   "execution_count": 22,
   "metadata": {
    "collapsed": false
   },
   "outputs": [
    {
     "name": "stdout",
     "output_type": "stream",
     "text": [
      "Populating the interactive namespace from numpy and matplotlib\n"
     ]
    },
    {
     "name": "stderr",
     "output_type": "stream",
     "text": [
      "WARNING: pylab import has clobbered these variables: ['plot']\n",
      "`%matplotlib` prevents importing * from pylab and numpy\n"
     ]
    },
    {
     "data": {
      "image/png": "[encoded data removed]",
      "text/plain": [
       "<matplotlib.figure.Figure at 0x7f5ec3b340b8>"
      ]
     },
     "metadata": {},
     "output_type": "display_data"
    }
   ],
   "source": [
    "%pylab inline\n",
    "\n",
    "import numpy\n",
    "import matplotlib.pyplot as plot\n",
    "\n",
    "days = [\"Monday\", \"Tuesday\", \"Wednesday\", \"Thursday\", \"Friday\", \"Saturday\", \"Sunday\"]\n",
    "ind = numpy.arange(len(days))    # the x locations for the groups\n",
    "width = 0.35       # the width of the bars: can also be len(x) sequence\n",
    "\n",
    "morning = [0]*7; afternoon = [0]*7; night = [0]*7;\n",
    "for crime in categories[\"Theft\"][\"crimes\"]:\n",
    "    # If the date is Friday\n",
    "    hour_of_crime = datestring_to_date(crime[\"incident_date_time\"]).time().hour\n",
    "    day_of_week = datestring_to_date(crime[\"incident_date_time\"]).weekday()\n",
    "    if (hour_of_crime > 2 and hour_of_crime < 12):\n",
    "        morning[day_of_week] += 1\n",
    "    elif (hour_of_crime > 12 and hour_of_crime < 20):\n",
    "        afternoon[day_of_week] += 1\n",
    "    else:\n",
    "        night[day_of_week] += 1\n",
    "        \n",
    "morning_bar = plot.bar(ind, morning, width, color=\"r\", label=\"Morning\")\n",
    "afternoon_bar = plot.bar(ind, afternoon, width, color=\"g\", label=\"Afternoon\", bottom=morning)\n",
    "night_bar = plot.bar(ind, night, width, color=\"b\", label=\"Night\", bottom=[x+y for x,y in zip(morning,afternoon)])\n",
    "\n",
    "plot.ylabel('Instances')\n",
    "plot.title('Theft by Day')\n",
    "plot.xticks(ind + width/2., set([\"Monday\", \"Tuesday\", \"Wednesday\", \"Thursday\", \"Friday\", \"Saturday\", \"Sunday\"]))\n",
    "plot.legend()\n",
    "\n",
    "plot.show()"
   ]
  },
  {
   "cell_type": "code",
   "execution_count": null,
   "metadata": {
    "collapsed": true
   },
   "outputs": [],
   "source": []
  },
  {
   "cell_type": "code",
   "execution_count": null,
   "metadata": {
    "collapsed": true
   },
   "outputs": [],
   "source": []
  }
 ],
 "metadata": {
  "kernelspec": {
   "display_name": "Python 3",
   "language": "python",
   "name": "python3"
  },
  "language_info": {
   "codemirror_mode": {
    "name": "ipython",
    "version": 3
   },
   "file_extension": ".py",
   "mimetype": "text/x-python",
   "name": "python",
   "nbconvert_exporter": "python",
   "pygments_lexer": "ipython3",
   "version": "3.5.1"
  }
 },
 "nbformat": 4,
 "nbformat_minor": 0
}
