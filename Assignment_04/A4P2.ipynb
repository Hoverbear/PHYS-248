{
 "cells": [
  {
   "cell_type": "markdown",
   "metadata": {
    "collapsed": true
   },
   "source": [
    "First let's define some code to fetch the data. This takes a few seconds so be patient:"
   ]
  },
  {
   "cell_type": "code",
   "execution_count": 1,
   "metadata": {
    "collapsed": true
   },
   "outputs": [],
   "source": [
    "from datetime import date, datetime\n",
    "from urllib.request import urlopen\n",
    "from json import loads\n",
    "\n",
    "class CrimeReport:\n",
    "    def __init__(self, data):\n",
    "        \"\"\"\n",
    "        Creates a CrimeReport from the data as provided by the crimereports.com/v3 API. This is purely for convienent access (`thing.lat` over `thing[\"lat\"]` and some type checking/safety.\n",
    "\n",
    "        Attributes:\n",
    "            - type (str): The incident type name.\n",
    "            - date (datetime): The datetime of the incident.\n",
    "            - organization (str): The organization name (always Vic PD in this case).\n",
    "            - lat (float): The Latitude.\n",
    "            - lng (float): The Longtitude.\n",
    "\n",
    "        \"\"\"\n",
    "        self.type = str(data[\"incident_type_name\"])\n",
    "        self.date = datetime.strptime(data[\"incident_date_time\"], \"%Y-%m-%dT%H:%M:%SZ\")\n",
    "        self.organization = str(data[\"org_name\"])\n",
    "        self.address = str(data[\"address\"])\n",
    "        self.lat = float(data[\"lat\"])\n",
    "        self.lng = float(data[\"lng\"])\n",
    "    def __repr__(self):\n",
    "        \"\"\"\n",
    "        Defines a pretty printing for a CrimeReport\n",
    "        \"\"\"\n",
    "        return \"CrimeReport(type=\\\"\"+self.type+\"\\\", address=\\\"\"+self.address+\"\\\", lat=\\\"\"+str(self.lat)+\"\\\", lng=\\\"\"+str(self.lng)+\"\\\", date=\\\"\"+str(self.date)+\"\\\", organization=\\\"\"+self.organization+\"\\\")\"\n",
    "\n",
    "def get_crime_reports(start=date(2015,1,1), end=date(2016,3,1)):\n",
    "    \"\"\"\n",
    "    Gets a set of crime reports for the VicPD in roughly the Victoria area from start to end dates. This will take a bit due to rate limiting and the volume of data produced.\n",
    "\n",
    "    Returns a list of CrimeReports.\n",
    "    \"\"\"\n",
    "    # This covers most of Victoria\n",
    "    rows = range(2831, 2834)\n",
    "    cols = range(1286, 1291)\n",
    "    \n",
    "    start_param = start.strftime(\"%Y/%m/%d\")\n",
    "    end_param = end.strftime(\"%Y/%m/%d\")\n",
    "\n",
    "    crimes = []\n",
    "    incident_types = \",\".join([str(x) for x in range(0,200)])\n",
    "    \n",
    "    for row in rows:\n",
    "        for col in cols:\n",
    "            #print(\"Getting row \"+str(row)+\" col \"+str(col))\n",
    "            url = \"https://www.crimereports.com/v3/crime_reports/map/search_by_tile.json?start_date=\"+start_param+\"&end_date=\"+end_param+\"&incident_type_ids=\"+incident_types+\"&org_ids=1550&row=\"+str(row)+\"&column=\"+str(col)+\"&zoom=13&include_sex_offenders=false\"\n",
    "            raw_data = urlopen(url).read().decode(\"utf-8\")\n",
    "            this_data = loads(raw_data)\n",
    "            if this_data[\"crimes\"]:\n",
    "                #print(str(len(this_data[\"crimes\"]))+\" crimes found on this tile\")\n",
    "                for item in this_data[\"crimes\"]:\n",
    "                    crimes.append(CrimeReport(item))\n",
    "    return crimes\n",
    "\n",
    "# Get all the reports.\n",
    "crimes = get_crime_reports()"
   ]
  },
  {
   "cell_type": "markdown",
   "metadata": {},
   "source": [
    "Now lets get the number of crimes by category:"
   ]
  },
  {
   "cell_type": "code",
   "execution_count": 3,
   "metadata": {
    "collapsed": false
   },
   "outputs": [
    {
     "name": "stdout",
     "output_type": "stream",
     "text": [
      "BUSINESS                      \t    1\t00.01%\n",
      "POSSESSION-CANNABIS OVER 30G  \t    1\t00.01%\n",
      "POSSESSION-MDMA (ECSTASY)     \t    2\t00.01%\n",
      "LIQUOR-SEIZURE                \t    2\t00.01%\n",
      "THEFT BICYCLE OVER $5000      \t    2\t00.01%\n",
      "THEFT FROM MV OVER $5000      \t    3\t00.02%\n",
      "ASSAULT-OTHER PEACE OFFICER   \t    3\t00.02%\n",
      "THEFT-SHOPLIFTING OVER $5000  \t    4\t00.02%\n",
      "215ALCOH IRP WARN-7DAY        \t    4\t00.02%\n",
      "THEFT OTHER VEHICLE U/$5000   \t    4\t00.02%\n",
      "THEFT-ELEC/GAS/TEL UNDER $5000\t    4\t00.02%\n",
      "TAKE AUTO W/O CONSENT U/$5000 \t    4\t00.02%\n",
      "EXCESSIVE SPEED-OVER 40KM     \t    5\t00.03%\n",
      "POSSESS-OTH SCHED III DRUG/SUB\t    5\t00.03%\n",
      "VI-VEHICLE IMPOUNDMENT        \t    6\t00.04%\n",
      "ASSAULT POLICE-W/WEAPON OR CBH\t    6\t00.04%\n",
      "TRAFFICK-CANNABIS 3000G & UNDR\t    9\t00.05%\n",
      "MISCHIEF OVER $5000           \t    9\t00.05%\n",
      "TRAFFICKING-METHAMPHETAMINE   \t   10\t00.06%\n",
      "ASSAULT-AGGRAVATED            \t   14\t00.08%\n",
      "THEFT OF TRUCK OVER $5000     \t   19\t00.12%\n",
      "THEFT-OTHER OVER $5000        \t   20\t00.12%\n",
      "POSSESS-OTH SCHED I DRUGS/SUBS\t   26\t00.16%\n",
      "ARSON-PROPERTY                \t   28\t00.17%\n",
      "TRAFFIC-OTHER MUNICIPAL       \t   29\t00.18%\n",
      "ROBBERY W/OTHER OFFENSIVE WPN \t   30\t00.18%\n",
      "215 ALCOH-24HR                \t   32\t00.19%\n",
      "TRAFFICKING-HEROIN            \t   34\t00.21%\n",
      "TRAFFICKING-COCAINE           \t   34\t00.21%\n",
      "THEFT OF AUTO OVER $5000      \t   35\t00.21%\n",
      "THEFT MOTORCYCLE UNDER $5000  \t   35\t00.21%\n",
      "215 DRUG                      \t   37\t00.22%\n",
      "LIQUOR (LCLA) ACT-OTHER       \t   46\t00.28%\n",
      "THEFT OF TRUCK UNDER $5000    \t   47\t00.28%\n",
      "POSSESSION-HEROIN             \t   49\t00.30%\n",
      "ASSAULT AGAINST POLICE OFFICER\t   53\t00.32%\n",
      "ASSAULTS-OTHER                \t   63\t00.38%\n",
      "215ALCOH IRP WARN-3DAY        \t   72\t00.44%\n",
      "THEFT OF AUTO UNDER $5000     \t   73\t00.44%\n",
      "POSSESSION-COCAINE            \t   74\t00.45%\n",
      "ROBBERY-OTHER                 \t   79\t00.48%\n",
      "ANIMAL CALLS                  \t   94\t00.57%\n",
      "OBSTRUCT PEACE/PUBLIC OFFICER \t   96\t00.58%\n",
      "CYCLIST                       \t   96\t00.58%\n",
      "POSSESSION-METHAMPHETAMINE    \t   98\t00.59%\n",
      "POSSESSION-CANNABIS 30G & UNDR\t  133\t00.81%\n",
      "WEAPONS-POSSESSION            \t  151\t00.91%\n",
      "FALSE ALARMS                  \t  170\t01.03%\n",
      "LIQUOR-CONSUME IN PUBLIC PLACE\t  170\t01.03%\n",
      "BREAK & ENTER-OTHER           \t  177\t01.07%\n",
      "BREAK & ENTER-RESIDENCE       \t  211\t01.28%\n",
      "BREAK & ENTER-BUSINESS        \t  216\t01.31%\n",
      "TRAFFIC-OTHER NON-MOVE PROV   \t  223\t01.35%\n",
      "ASSAULT-W/WEAPON OR CBH       \t  233\t01.41%\n",
      "IMPAIRED OP MOTOR VEH (ALCOH) \t  234\t01.42%\n",
      "COLLISION-NON-FATAL INJURY    \t  265\t01.60%\n",
      "TRAFFIC-OTHER MOVING PROV     \t  277\t01.68%\n",
      "COLLISION-DAMAGE UNDER $1000  \t  292\t01.77%\n",
      "CAUSE A DISTURBANCE           \t  375\t02.27%\n",
      "VEHICLE                       \t  377\t02.28%\n",
      "COLLISION-DAMAGE OVER $1000   \t  431\t02.61%\n",
      "TRAFFIC-INSURANCE VIOLATION   \t  465\t02.82%\n",
      "THEFT BICYCLE UNDER $5000     \t  549\t03.32%\n",
      "DRIVING COMPLAINTS            \t  554\t03.35%\n",
      "BYLAW-NOISE                   \t  707\t04.28%\n",
      "PEDESTRIAN                    \t  838\t05.07%\n",
      "THEFT-SHOPLIFTING UNDER $5000 \t  952\t05.76%\n",
      "THEFT FROM MV UNDER $5000     \t 1114\t06.75%\n",
      "MISCHIEF $5000 OR UNDER       \t 1117\t06.76%\n",
      "THEFT-OTHER UNDER $5000       \t 1159\t07.02%\n",
      "LIQUOR-INTOX IN PUBLIC PLACE  \t 1322\t08.01%\n",
      "SUSPICIOUS PERS/VEH/OCCURRENCE\t 2405\t14.56%\n"
     ]
    }
   ],
   "source": [
    "counts = {}\n",
    "for crime in crimes:\n",
    "    if crime.type in counts:\n",
    "        counts[crime.type] += 1\n",
    "    else:\n",
    "        counts[crime.type] = 1 \n",
    "\n",
    "for item,count in sorted([x for x in counts.items()], key=lambda x: x[1]):\n",
    "    print(\"{:30}\\t{:5}\\t{:05.2f}%\".format(item, count, float(count) / len(crimes) * 100))"
   ]
  }
 ],
 "metadata": {
  "kernelspec": {
   "display_name": "Python 3",
   "language": "python",
   "name": "python3"
  },
  "language_info": {
   "codemirror_mode": {
    "name": "ipython",
    "version": 3
   },
   "file_extension": ".py",
   "mimetype": "text/x-python",
   "name": "python",
   "nbconvert_exporter": "python",
   "pygments_lexer": "ipython3",
   "version": "3.5.1"
  }
 },
 "nbformat": 4,
 "nbformat_minor": 0
}
