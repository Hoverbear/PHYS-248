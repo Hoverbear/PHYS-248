{
 "cells": [
  {
   "cell_type": "markdown",
   "metadata": {},
   "source": [
    "# Jacob Nagrocki and Andrew Hobden"
   ]
  },
  {
   "cell_type": "markdown",
   "metadata": {
    "collapsed": true
   },
   "source": [
    "\n",
    "## A4P2\n",
    "\n",
    "Continue your explorations from the Tuesday tutorial. Create several plots that help you answer the questions:\n",
    "\n",
    "* To what extent do you see deviations from the mean for the various crime rates? Day-to-day? Month-to-Month?\n",
    "* Try to find any patterns in these deviations using devices such as:\n",
    "    * Daily plots.\n",
    "    * Plots of weekly averages.\n",
    "    * Plots for only Fridays and Saturdays.\n",
    "* Once you have found some deviations from the norm, look for possible explanations:\n",
    "    * Heat maps (i.e. spatial patterns). These could help you locate (spatially) where the deviations occur, once you know they exist.\n",
    "    * Outside information: Do they occur during warm weather? Holidays? If your number of 'big' deviations is small you could check these by hand. But if they appear large, you could download a record of daily temperatures from Weather Canada. Max daily temperatures can be readily stripped from the csv download.\n",
    "* If you do spot any major trends, such as a relationship between some forms of crime, and something else, try to find a way to do a least square fit between the two.\n",
    "\n",
    "In your answer booklet, summarize your results in the initial paragraph.\n",
    "\n",
    "Due Friday March 25th, 9pm.\n",
    "\n",
    "# Summarized Results\n",
    "\n",
    "### We observed that:\n",
    "\n",
    "* The 1st and 15th are most common days of the month for theft.\n",
    "* People drink most irresponsibly (and it's reported) on Thursdays.\n",
    "* Tuesday is the most common day of thefts.\n",
    "\n",
    "### We recognized these constraints:\n",
    "\n",
    "* The data provided by CrimeReports is incomplete (only goes back 6 months) thus any yearly or meaningful \"over time\" statistics will not work.\n",
    "* Weather APIs almost universally include signup and rate limiting which we were not interested in. The \"Weather Canada\" link provided invalid unicode files (which we could work around) and did not provide particularly useful data.\n",
    "\n",
    "\n",
    "\n",
    "First let's define some code to fetch the data:"
   ]
  },
  {
   "cell_type": "code",
   "execution_count": 1,
   "metadata": {
    "collapsed": false
   },
   "outputs": [],
   "source": [
    "from datetime import date, datetime\n",
    "from urllib.request import urlopen\n",
    "from json import loads\n",
    "\n",
    "def datestring_to_date(datestring):\n",
    "    \"\"\"\n",
    "    Converts a string in the Crime Reports format to a real datetime.\n",
    "    \"\"\"\n",
    "    from datetime import datetime\n",
    "    return datetime.strptime(datestring, \"%Y-%m-%dT%H:%M:%SZ\")\n",
    "\n",
    "def get_crime_reports(start=date(2015,1,1), end=date(2016,3,1), incident_types=range(0,200)):\n",
    "    \"\"\"\n",
    "    Gets a set of crime reports for the VicPD in roughly the Victoria area from roughly the start to end dates. This will take a bit due to rate limiting and the volume of data produced.\n",
    "\n",
    "    Returns a list of CrimeReports.\n",
    "    \"\"\"\n",
    "    # This covers most of Victoria\n",
    "    rows = range(2831, 2834)\n",
    "    cols = range(1286, 1291)\n",
    "    \n",
    "    start_param = start.strftime(\"%Y/%m/%d\")\n",
    "    end_param = end.strftime(\"%Y/%m/%d\")\n",
    "\n",
    "    crimes = []\n",
    "    incident_types = \",\".join([str(x) for x in incident_types])\n",
    "    \n",
    "    for row in rows:\n",
    "        for col in cols:\n",
    "            #print(\"Getting row \"+str(row)+\" col \"+str(col))\n",
    "            url = \"https://www.crimereports.com/v3/crime_reports/map/search_by_tile.json?start_date=\"+start_param+\"&end_date=\"+end_param+\"&incident_type_ids=\"+incident_types+\"&org_ids=1550&row=\"+str(row)+\"&column=\"+str(col)+\"&zoom=13&include_sex_offenders=false\"\n",
    "            raw_data = urlopen(url).read().decode(\"utf-8\")\n",
    "            this_data = loads(raw_data)\n",
    "            if this_data[\"crimes\"]:\n",
    "                #print(str(len(this_data[\"crimes\"]))+\" crimes found on this tile\")\n",
    "                for item in this_data[\"crimes\"]:\n",
    "                    crimes.append(item)\n",
    "                    \n",
    "    # It was discovered that the data is frequently duplicated. Let's dedup.\n",
    "    seen_ids = set()\n",
    "    unique_crimes = []\n",
    "    for crime in crimes:\n",
    "        if crime[\"id\"] not in seen_ids:\n",
    "            seen_ids.add(crime[\"id\"])\n",
    "            unique_crimes.append(crime)\n",
    "\n",
    "    return unique_crimes\n"
   ]
  },
  {
   "cell_type": "markdown",
   "metadata": {},
   "source": [
    "Now lets get the crimes arranged by category, first we need to build out the categories. Initial data retrieved by running the following JS in page console. Figured out by inspecting the minified source.\n",
    "\n",
    "```js\n",
    "categories = {};\n",
    "categoryTypes.map(function (x) {\n",
    "    created_cat = {};\n",
    "    created_cat.id = x.id;\n",
    "    if (x.children) {\n",
    "        created_cat.children = {};\n",
    "        x.children.map(function (y) {\n",
    "            created_subcat = {};\n",
    "            created_subcat.id = y.id;\n",
    "            created_cat.children[y.name] = created_subcat;\n",
    "        });\n",
    "    }\n",
    "    categories[x.name] = created_cat;\n",
    "});\n",
    "JSON.stringify(categories, null, 2)\n",
    "\n",
    "```"
   ]
  },
  {
   "cell_type": "code",
   "execution_count": 2,
   "metadata": {
    "collapsed": false
   },
   "outputs": [],
   "source": [
    "categories = {\n",
    "  \"Homicide\": {\n",
    "    \"id\": 104,\n",
    "    \"children\": {}\n",
    "  },\n",
    "  \"Breaking & Entering\": {\n",
    "    \"id\": 100,\n",
    "    \"children\": {}\n",
    "  },\n",
    "  \"Robbery\": {\n",
    "    \"id\": 98,\n",
    "    \"children\": {}\n",
    "  },\n",
    "  \"Theft\": {\n",
    "    \"id\": 103,\n",
    "    \"children\": {}\n",
    "  },\n",
    "  \"Theft of Vehicle\": {\n",
    "    \"id\": 99,\n",
    "    \"children\": {}\n",
    "  },\n",
    "  \"Theft from Vehicle\": {\n",
    "    \"id\": 101,\n",
    "    \"children\": {}\n",
    "  },\n",
    "  \"Vehicle Recovery\": {\n",
    "    \"id\": 170,\n",
    "    \"children\": {}\n",
    "  },\n",
    "  \"Sexual Offense\": {\n",
    "    \"id\": 8,\n",
    "    \"children\": {\n",
    "      \"Other Sexual Offense\": {\n",
    "        \"id\": 97\n",
    "      },\n",
    "      \"Sexual Assault\": {\n",
    "        \"id\": 148\n",
    "      }\n",
    "    }\n",
    "  },\n",
    "  \"Assault \": {\n",
    "    \"id\": 9,\n",
    "    \"children\": {\n",
    "      \"Assault\": {\n",
    "        \"id\": 149\n",
    "      },\n",
    "      \"Assault with Deadly Weapon\": {\n",
    "        \"id\": 150\n",
    "      }\n",
    "    }\n",
    "  },\n",
    "  \"Property Crime \": {\n",
    "    \"id\": 10,\n",
    "    \"children\": {\n",
    "      \"Property Crime\": {\n",
    "        \"id\": 180\n",
    "      },\n",
    "      \"Property Crime Commercial\": {\n",
    "        \"id\": 179\n",
    "      },\n",
    "      \"Property Crime Residential\": {\n",
    "        \"id\": 178\n",
    "      }\n",
    "    }\n",
    "  },\n",
    "  \"Other \": {\n",
    "    \"id\": 11,\n",
    "    \"children\": {\n",
    "      \"Alarm\": {\n",
    "        \"id\": 160\n",
    "      },\n",
    "      \"Arson\": {\n",
    "        \"id\": 121\n",
    "      },\n",
    "      \"Death\": {\n",
    "        \"id\": 162\n",
    "      },\n",
    "      \"Family Offense\": {\n",
    "        \"id\": 164\n",
    "      },\n",
    "      \"Kidnapping\": {\n",
    "        \"id\": 165\n",
    "      },\n",
    "      \"Missing Person\": {\n",
    "        \"id\": 167\n",
    "      },\n",
    "      \"Other\": {\n",
    "        \"id\": 151\n",
    "      },\n",
    "      \"Weapons Offense\": {\n",
    "        \"id\": 171\n",
    "      }\n",
    "    }\n",
    "  },\n",
    "  \"Quality of Life\": {\n",
    "    \"id\": 12,\n",
    "    \"children\": {\n",
    "      \"Disorder\": {\n",
    "        \"id\": 163\n",
    "      },\n",
    "      \"Drugs\": {\n",
    "        \"id\": 168\n",
    "      },\n",
    "      \"Liquor\": {\n",
    "        \"id\": 166\n",
    "      }\n",
    "    }\n",
    "  },\n",
    "  \"Traffic\": {\n",
    "    \"id\": 169,\n",
    "    \"children\": {}\n",
    "  },\n",
    "  \"Fire\": {\n",
    "    \"id\": 15,\n",
    "    \"children\": {}\n",
    "  },\n",
    "  \"Emergency\": {\n",
    "    \"id\": 16,\n",
    "    \"children\": {}\n",
    "  },\n",
    "  \"Proactive Policing\": {\n",
    "    \"id\": 14,\n",
    "    \"children\": {\n",
    "      \"Community Policing\": {\n",
    "        \"id\": 161\n",
    "      },\n",
    "      \"Pedestrian Stop\": {\n",
    "        \"id\": 173\n",
    "      },\n",
    "      \"Vehicle Stop\": {\n",
    "        \"id\": 172\n",
    "      }\n",
    "    }\n",
    "  }\n",
    "}\n",
    "\n",
    "# Build a lookup dict \n",
    "category_id_lookup = {}\n",
    "for category_name,category in categories.items():\n",
    "    category_id_lookup[category[\"id\"]] = category\n",
    "    if category[\"children\"]:\n",
    "        for child_name,child in category[\"children\"].items():\n",
    "            category_id_lookup[child[\"id\"]] = child\n",
    "for category in category_id_lookup.keys():\n",
    "    category_id_lookup[category][\"crimes\"] = []"
   ]
  },
  {
   "cell_type": "code",
   "execution_count": 3,
   "metadata": {
    "collapsed": false
   },
   "outputs": [],
   "source": [
    "# Get all the reports. This takes a few seconds and is thus it's on cell. Avoid re-running this.\n",
    "crimes = get_crime_reports(incident_types=category_id_lookup.keys())"
   ]
  },
  {
   "cell_type": "markdown",
   "metadata": {},
   "source": [
    "Arrange the crimes into their appropriate places."
   ]
  },
  {
   "cell_type": "code",
   "execution_count": 4,
   "metadata": {
    "collapsed": false
   },
   "outputs": [],
   "source": [
    "for crime in crimes:\n",
    "    category = category_id_lookup[crime['incident_type_id']]\n",
    "    category[\"crimes\"].append(crime)"
   ]
  },
  {
   "cell_type": "markdown",
   "metadata": {},
   "source": [
    "# Frequency Breakdowns"
   ]
  },
  {
   "cell_type": "code",
   "execution_count": 5,
   "metadata": {
    "collapsed": false
   },
   "outputs": [
    {
     "name": "stdout",
     "output_type": "stream",
     "text": [
      "    0 Vehicle Recovery              \n",
      "   47 Robbery                       \n",
      "    0 Homicide                      \n",
      " 1220 Theft                         \n",
      " 1427 Traffic                       \n",
      "    0 Quality of Life               \n",
      "\t   202 Drugs                         \n",
      "\t   652 Liquor                        \n",
      "\t   149 Disorder                      \n",
      "  108 Theft of Vehicle              \n",
      "  505 Theft from Vehicle            \n",
      "  278 Breaking & Entering           \n",
      "    0 Assault                       \n",
      "\t   112 Assault with Deadly Weapon    \n",
      "\t    44 Assault                       \n",
      "    0 Sexual Offense                \n",
      "\t     0 Other Sexual Offense          \n",
      "\t     0 Sexual Assault                \n",
      "    0 Fire                          \n",
      "    0 Property Crime                \n",
      "\t   514 Property Crime                \n",
      "\t     0 Property Crime Residential    \n",
      "\t     0 Property Crime Commercial     \n",
      "    0 Emergency                     \n",
      "    0 Proactive Policing            \n",
      "\t     1 Community Policing            \n",
      "\t   396 Pedestrian Stop               \n",
      "\t   234 Vehicle Stop                  \n",
      "    0 Other                         \n",
      "\t     0 Death                         \n",
      "\t    86 Alarm                         \n",
      "\t     0 Family Offense                \n",
      "\t    52 Weapons Offense               \n",
      "\t  1506 Other                         \n",
      "\t     0 Kidnapping                    \n",
      "\t     0 Missing Person                \n",
      "\t    17 Arson                         \n"
     ]
    }
   ],
   "source": [
    "for category,data in categories.items():\n",
    "    print(\"{:5d} {:30s}\".format(len(data[\"crimes\"]), category))\n",
    "    for child_name,child_data in data[\"children\"].items():\n",
    "        print(\"\\t {:5d} {:30s}\".format(len(child_data[\"crimes\"]), child_name))"
   ]
  },
  {
   "cell_type": "markdown",
   "metadata": {},
   "source": [
    "It was noted that the \"parents\" are not necessarily composed of their children. This is probably due to legacy data."
   ]
  },
  {
   "cell_type": "code",
   "execution_count": 6,
   "metadata": {
    "collapsed": false
   },
   "outputs": [
    {
     "name": "stdout",
     "output_type": "stream",
     "text": [
      "Populating the interactive namespace from numpy and matplotlib\n"
     ]
    },
    {
     "name": "stderr",
     "output_type": "stream",
     "text": [
      "WARNING: pylab import has clobbered these variables: ['datetime', 'loads']\n",
      "`%matplotlib` prevents importing * from pylab and numpy\n"
     ]
    }
   ],
   "source": [
    "%pylab inline\n",
    "\n",
    "def heatmap(crimes, excluder):\n",
    "    import folium\n",
    "    from folium import plugins\n",
    "    data = []\n",
    "    for crime in crimes:\n",
    "        if excluder(crime):\n",
    "            data.append([crime[\"lat\"], crime[\"lng\"], 0.1])\n",
    "    mapa = folium.Map([48.4323, -123.3720], tiles='OpenStreetMap', zoom_start=13)\n",
    "    mapa.add_children(plugins.HeatMap(data))\n",
    "    return mapa\n",
    "\n",
    "def bars(title, crimes, variant):\n",
    "    import numpy\n",
    "    import matplotlib.pyplot as plot\n",
    "\n",
    "    if variant == \"weekday\":\n",
    "        days = [\"Monday\", \"Tuesday\", \"Wednesday\", \"Thursday\", \"Friday\", \"Saturday\", \"Sunday\"]\n",
    "        ind = numpy.arange(len(days))    # the x locations for the groups\n",
    "        width = 0.35       # the width of the bars: can also be len(x) sequence\n",
    "\n",
    "        morning = [0]*7; afternoon = [0]*7; night = [0]*7;\n",
    "        for crime in crimes:\n",
    "            hour_of_crime = datestring_to_date(crime[\"incident_date_time\"]).time().hour\n",
    "            day_of_week = datestring_to_date(crime[\"incident_date_time\"]).weekday()\n",
    "            if (hour_of_crime > 2 and hour_of_crime < 12):\n",
    "                morning[day_of_week] += 1\n",
    "            elif (hour_of_crime > 12 and hour_of_crime < 20):\n",
    "                afternoon[day_of_week] += 1\n",
    "            else:\n",
    "                night[day_of_week] += 1\n",
    "\n",
    "        morning_bar = plot.bar(ind, morning, width, color=\"r\", label=\"Morning\")\n",
    "        afternoon_bar = plot.bar(ind, afternoon, width, color=\"g\", label=\"Afternoon\", bottom=morning)\n",
    "        night_bar = plot.bar(ind, night, width, color=\"b\", label=\"Night\", bottom=[x+y for x,y in zip(morning,afternoon)])\n",
    "\n",
    "        plot.ylabel('Instances')\n",
    "        plot.title(str(title) + ' by Weekday')\n",
    "        plot.xticks(ind + width/2., [\"Monday\", \"Tuesday\", \"Wednesday\", \"Thursday\", \"Friday\", \"Saturday\", \"Sunday\"])\n",
    "        plt.legend(bbox_to_anchor=(1.05, 1), loc=2, borderaxespad=0.)\n",
    "    elif variant == \"monthday\":\n",
    "        days = [0]*31\n",
    "        ind = numpy.arange(len(days))    # the x locations for the groups\n",
    "        width = 0.35       # the width of the bars: can also be len(x) sequence\n",
    "\n",
    "        for crime in crimes:\n",
    "            day = datestring_to_date(crime[\"incident_date_time\"]).day # 1 index.\n",
    "            days[day-1] += 1\n",
    "\n",
    "        for day,instances in enumerate(days):\n",
    "            plot.bar(day, instances, width, label=(day+1))\n",
    "\n",
    "        plot.ylabel('Instances')\n",
    "        plot.title(str(title) + ' by Day of Month')\n",
    "    elif variant == \"month\":\n",
    "        months = [0]*12\n",
    "        ind = numpy.arange(len(months))    # the x locations for the groups\n",
    "        width = 0.35       # the width of the bars: can also be len(x) sequence\n",
    "\n",
    "        for crime in crimes:\n",
    "            month = datestring_to_date(crime[\"incident_date_time\"]).month # 1 index.\n",
    "            months[month-1] += 1\n",
    "\n",
    "        for month,instances in enumerate(months):\n",
    "            plot.bar(month, instances, width, label=datestring_to_date(crime[\"incident_date_time\"]).strftime(\"%B\"))\n",
    "\n",
    "        plot.ylabel('Instances')\n",
    "        plot.title(str(title) + ' by Month')\n",
    "    elif variant == \"date\":\n",
    "        months = [0]*12\n",
    "        ind = numpy.arange(len(months))    # the x locations for the groups\n",
    "        width = 0.35       # the width of the bars: can also be len(x) sequence\n",
    "\n",
    "        for crime in crimes:\n",
    "            month = datestring_to_date(crime[\"incident_date_time\"]).month # 1 index.\n",
    "            months[month-1] += 1\n",
    "\n",
    "        for month,instances in enumerate(months):\n",
    "            plot.bar(month, instances, width, label=datestring_to_date(crime[\"incident_date_time\"]).strftime(\"%B\"))\n",
    "\n",
    "        plot.ylabel('Instances')\n",
    "        plot.title(str(title) + ' by Month')\n",
    "    else:\n",
    "        return \"BADDD\"\n",
    "    \n",
    "    plot.show()"
   ]
  },
  {
   "cell_type": "code",
   "execution_count": null,
   "metadata": {
    "collapsed": true
   },
   "outputs": [],
   "source": []
  },
  {
   "cell_type": "markdown",
   "metadata": {},
   "source": [
    "# Drugs on Fridays\n",
    "\n",
    "(We copied this so we can confirm it's working.)"
   ]
  },
  {
   "cell_type": "code",
   "execution_count": 7,
   "metadata": {
    "collapsed": false,
    "scrolled": false
   },
   "outputs": [
    {
     "data": {
      "text/html": [
       "<div style=\"width:100%;\"><div style=\"position:relative;width:100%;height:0;padding-bottom:60%;\"><iframe src=\"data:text/html;base64,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\" style=\"position:absolute;width:100%;height:100%;left:0;top:0;\"></iframe></div></div>"
      ],
      "text/plain": [
       "<folium.folium.Map at 0x7f3cacdfaf28>"
      ]
     },
     "execution_count": 7,
     "metadata": {},
     "output_type": "execute_result"
    }
   ],
   "source": [
    "heatmap(categories[\"Quality of Life\"][\"children\"][\"Drugs\"][\"crimes\"],\n",
    "        lambda x: datestring_to_date(x[\"incident_date_time\"]).weekday() == 4)"
   ]
  },
  {
   "cell_type": "markdown",
   "metadata": {},
   "source": [
    "\n",
    "## Theft Morning/Afternoon/Night\n",
    "\n",
    "First, day between 2AM and 12PM:\n"
   ]
  },
  {
   "cell_type": "code",
   "execution_count": 8,
   "metadata": {
    "collapsed": false
   },
   "outputs": [
    {
     "data": {
      "text/html": [
       "<div style=\"width:100%;\"><div style=\"position:relative;width:100%;height:0;padding-bottom:60%;\"><iframe src=\"data:text/html;base64,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\" style=\"position:absolute;width:100%;height:100%;left:0;top:0;\"></iframe></div></div>"
      ],
      "text/plain": [
       "<folium.folium.Map at 0x7f3cace93358>"
      ]
     },
     "execution_count": 8,
     "metadata": {},
     "output_type": "execute_result"
    }
   ],
   "source": [
    "heatmap(categories[\"Theft\"][\"crimes\"],\n",
    "        lambda x: datestring_to_date(x[\"incident_date_time\"]).time().hour > 2 and\n",
    "                  datestring_to_date(x[\"incident_date_time\"]).time().hour < 12)"
   ]
  },
  {
   "cell_type": "code",
   "execution_count": 9,
   "metadata": {
    "collapsed": false
   },
   "outputs": [
    {
     "data": {
      "text/html": [
       "<div style=\"width:100%;\"><div style=\"position:relative;width:100%;height:0;padding-bottom:60%;\"><iframe src=\"data:text/html;base64,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\" style=\"position:absolute;width:100%;height:100%;left:0;top:0;\"></iframe></div></div>"
      ],
      "text/plain": [
       "<folium.folium.Map at 0x7f3cace93240>"
      ]
     },
     "execution_count": 9,
     "metadata": {},
     "output_type": "execute_result"
    }
   ],
   "source": [
    "heatmap(categories[\"Theft\"][\"crimes\"],\n",
    "        lambda x: datestring_to_date(x[\"incident_date_time\"]).time().hour > 12 and\n",
    "                  datestring_to_date(x[\"incident_date_time\"]).time().hour < 20)"
   ]
  },
  {
   "cell_type": "code",
   "execution_count": 10,
   "metadata": {
    "collapsed": false
   },
   "outputs": [
    {
     "data": {
      "text/html": [
       "<div style=\"width:100%;\"><div style=\"position:relative;width:100%;height:0;padding-bottom:60%;\"><iframe src=\"data:text/html;base64,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\" style=\"position:absolute;width:100%;height:100%;left:0;top:0;\"></iframe></div></div>"
      ],
      "text/plain": [
       "<folium.folium.Map at 0x7f3cac94ada0>"
      ]
     },
     "execution_count": 10,
     "metadata": {},
     "output_type": "execute_result"
    }
   ],
   "source": [
    "heatmap(categories[\"Theft\"][\"crimes\"],\n",
    "        lambda x: datestring_to_date(x[\"incident_date_time\"]).time().hour > 20 or\n",
    "                  datestring_to_date(x[\"incident_date_time\"]).time().hour < 2)\n"
   ]
  },
  {
   "cell_type": "markdown",
   "metadata": {},
   "source": [
    "# Now let's plot crime by day by time period:"
   ]
  },
  {
   "cell_type": "code",
   "execution_count": 11,
   "metadata": {
    "collapsed": false
   },
   "outputs": [
    {
     "data": {
      "image/png": "[encoded data removed]",
      "text/plain": [
       "<matplotlib.figure.Figure at 0x7f3cacef7c50>"
      ]
     },
     "metadata": {},
     "output_type": "display_data"
    }
   ],
   "source": [
    "bars(\"Theft\", categories[\"Theft\"][\"crimes\"], \"weekday\")"
   ]
  },
  {
   "cell_type": "markdown",
   "metadata": {},
   "source": [
    "## Observation\n",
    "Tuesday is the most popular day for thefts."
   ]
  },
  {
   "cell_type": "code",
   "execution_count": 12,
   "metadata": {
    "collapsed": false
   },
   "outputs": [
    {
     "data": {
      "image/png": "[encoded data removed]",
      "text/plain": [
       "<matplotlib.figure.Figure at 0x7f3c93664400>"
      ]
     },
     "metadata": {},
     "output_type": "display_data"
    }
   ],
   "source": [
    "bars(\"Theft\", categories[\"Theft\"][\"crimes\"], \"monthday\")"
   ]
  },
  {
   "cell_type": "markdown",
   "metadata": {},
   "source": [
    "\n",
    "### Observation\n",
    "\n",
    "The 15th and 1st of each month have the most theft.\n"
   ]
  },
  {
   "cell_type": "code",
   "execution_count": 13,
   "metadata": {
    "collapsed": false,
    "scrolled": true
   },
   "outputs": [
    {
     "data": {
      "image/png": "[encoded data removed]",
      "text/plain": [
       "<matplotlib.figure.Figure at 0x7f3c935f6ba8>"
      ]
     },
     "metadata": {},
     "output_type": "display_data"
    }
   ],
   "source": [
    "bars(\"Alchohol\", categories[\"Quality of Life\"][\"children\"][\"Drugs\"][\"crimes\"], \"weekday\")"
   ]
  },
  {
   "cell_type": "markdown",
   "metadata": {},
   "source": [
    "\n",
    "# Observation\n",
    "\n",
    "People are most irresponsible with Alchohol on Thursdays.\n"
   ]
  },
  {
   "cell_type": "markdown",
   "metadata": {},
   "source": [
    "# Bias Observation:\n",
    "\n",
    "Notice that in theft by weekday and alcohol by weekday, the most eventful days were Tuesday and Thursday respectfully. A possible observation about this: perhaps these weren't actually the most eventful days, but just the days where the police had the most time to input the data. Maybe Friday and Saturday were more eventful, so much so that the police were less likely to plot data. \n",
    "\n",
    "So, maybe we have this bias effect normalizing all of our data, making it hard to spot these \"crime spikes\" in any way that seems reasonable to make conclusions from."
   ]
  },
  {
   "cell_type": "code",
   "execution_count": null,
   "metadata": {
    "collapsed": true
   },
   "outputs": [],
   "source": []
  }
 ],
 "metadata": {
  "kernelspec": {
   "display_name": "Python 3",
   "language": "python",
   "name": "python3"
  },
  "language_info": {
   "codemirror_mode": {
    "name": "ipython",
    "version": 3
   },
   "file_extension": ".py",
   "mimetype": "text/x-python",
   "name": "python",
   "nbconvert_exporter": "python",
   "pygments_lexer": "ipython3",
   "version": "3.5.1"
  }
 },
 "nbformat": 4,
 "nbformat_minor": 0
}
