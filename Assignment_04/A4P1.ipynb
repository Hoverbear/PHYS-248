{
 "cells": [
  {
   "cell_type": "markdown",
   "metadata": {},
   "source": [
    "## Problem 1\n",
    "\n",
    "1. Extend your network (Problem 2 from Assignment 1) to work for an arbitrary (reasonable) temperature. For that task you need to download the reaction rate tables from the  [NACRE compilation](http://www.astro.ulb.ac.be/nacreii) and provide a subroutine that reads them and interpolates and returns the reaction rate for an arbitrary T. \n",
    "2. Find a stellar model that is about to start burning of H in the center, both in the $2M_\\odot$ and $20M_\\odot$ model. The core of such a model is convective, and therefore adiabatically stratifies. Integrate an adiabatic stratification for the cores (the innermost $20%$ by mass) of both stars.  The result is a $P$-$\\rho$ profile.\n",
    "3. Calculate the $T$ profile of theses structures and compare it to the one from a pre-computed MESA model from the WENDI platform.\n",
    "4. Calculate the radial profile of $^{12}C$, $^{13}C$, $^{14}N$ and $^{15}N$ after $1%$ of the time it takes the realistic model to burn almost all H in the center once H burning starts. \n",
    "5. Discuss your result.\n"
   ]
  },
  {
   "cell_type": "code",
   "execution_count": 54,
   "metadata": {
    "collapsed": false
   },
   "outputs": [
    {
     "name": "stdout",
     "output_type": "stream",
     "text": [
      "[(6000000.0, 1.21e-24), (7000000.0, 4.75e-23), (8000000.0, 9.85e-22), (9000000.0, 1.28e-20), (10000000.0, 1.16e-19), (11000000.0, 7.99e-19), (12000000.0, 4.4e-18), (13000000.0, 2.02e-17), (14000000.0, 8.01e-17), (15000000.0, 2.79e-16), (16000000.0, 8.75e-16), (18000000.0, 6.6e-15), (20000000.0, 3.76e-14), (25000000.0, 1.23e-12), (30000000.0, 1.74e-11), (40000000.0, 8.35e-10), (50000000.0, 1.31e-08), (60000000.0, 1.07e-07), (70000000.0, 5.7e-07), (80000000.0, 2.28e-06), (90000000.0, 7.36e-06), (100000000.0, 2.03e-05), (110000000.0, 4.92e-05), (120000000.0, 0.000108), (130000000.0, 0.000219), (140000000.0, 0.000416), (150000000.0, 0.000746), (160000000.0, 0.00128), (180000000.0, 0.00335), (200000000.0, 0.00781), (250000000.0, 0.0478), (300000000.0, 0.233), (350000000.0, 0.955), (400000000.0, 3.18), (450000000.0, 8.62), (500000000.0, 19.6), (600000000.0, 67.9), (700000000.0, 164.0), (800000000.0, 313.0), (900000000.0, 510.0), (1000000000.0, 743.0), (1250000000.0, 1410.0), (1500000000.0, 2060.0), (1750000000.0, 2620.0), (2000000000.0, 3060.0), (2500000000.0, 3640.0), (3000000000.0, 3940.0), (3500000000.0, 4080.0), (4000000000.0, 4130.0), (5000000000.0, 4120.0), (6000000000.0, 4060.0), (7000000000.0, 3970.0), (8000000000.0, 3880.0), (9000000000.0, 3780.0), (10000000000.0, 3680.0)]\n"
     ]
    }
   ],
   "source": [
    "def interp(element, temperature):\n",
    "    \"\"\"\n",
    "    Reads reaction rates from NACRE and interpolates for a given temperature.\n",
    "    \n",
    "    Inputs:\n",
    "        - element: One of \"12c\", \"13c\", \"14n\", \"15n\"\n",
    "        - temperature\n",
    "    \"\"\"\n",
    "    # Safety tests.\n",
    "    assert len(element) == 3\n",
    "    assert int(element[:2]) # Throws an error if it doesn't start with a number.\n",
    "    assert temperature > (1e9 * 0.006), \"Too cold, must be hotter than 1e9 * 0.006.\"\n",
    "    assert temperature < (1e9 * 10.0), \"Too hot, must be cooler than 1e9 * 10.0.\"\n",
    "    # Open and handle the file.\n",
    "    from glob import glob\n",
    "    file = glob(\"elements/\" + str(element) + \"*.dat\")[0]\n",
    "    # Parse data.\n",
    "    rows = [x.strip().split()[:2] for x in open(file).read().split(\"\\n\")][1:]\n",
    "    data = [(float(temp) * 1e9, float(rate)) for temp, rate in rows]\n",
    "    # Figure out interpolated rate.\n",
    "    print(data)\n",
    "    \n",
    "    \n",
    "interp(\"12c\", 1e9)"
   ]
  },
  {
   "cell_type": "code",
   "execution_count": null,
   "metadata": {
    "collapsed": true
   },
   "outputs": [],
   "source": []
  }
 ],
 "metadata": {
  "kernelspec": {
   "display_name": "Python 3",
   "language": "python",
   "name": "python3"
  },
  "language_info": {
   "codemirror_mode": {
    "name": "ipython",
    "version": 3
   },
   "file_extension": ".py",
   "mimetype": "text/x-python",
   "name": "python",
   "nbconvert_exporter": "python",
   "pygments_lexer": "ipython3",
   "version": "3.5.1"
  }
 },
 "nbformat": 4,
 "nbformat_minor": 0
}
